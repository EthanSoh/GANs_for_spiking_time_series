{
 "cells": [
  {
   "cell_type": "markdown",
   "metadata": {},
   "source": [
    "# Analysis of the Berka dataset\n",
    "http://lisp.vse.cz/pkdd99/berka.htm"
   ]
  },
  {
   "cell_type": "code",
   "execution_count": 2,
   "metadata": {},
   "outputs": [
    {
     "name": "stdout",
     "output_type": "stream",
     "text": [
      "Populating the interactive namespace from numpy and matplotlib\n"
     ]
    }
   ],
   "source": [
    "%pylab inline\n",
    "import pandas as pd\n",
    "import pickle\n",
    "import os\n",
    "from datetime import date\n",
    "from scipy import sparse, io"
   ]
  },
  {
   "cell_type": "code",
   "execution_count": 2,
   "metadata": {},
   "outputs": [],
   "source": [
    "def parse_dataset():\n",
    "    for filename in os.listdir('original'):\n",
    "        with open('original/' + filename, 'r') as input_file, open('parsed/' + filename.split('.')[0] + '.csv', 'w') as output_file:\n",
    "            for line in input_file.readlines():\n",
    "                print(line.replace('\"', '').replace('\\n', '').replace(';', ', ').replace(' ', ''), file=output_file)"
   ]
  },
  {
   "cell_type": "code",
   "execution_count": 3,
   "metadata": {},
   "outputs": [],
   "source": [
    "if not os.path.isdir(\"parsed\"):\n",
    "    os.mkdir(\"parsed\")\n",
    "    parse_dataset()"
   ]
  },
  {
   "cell_type": "markdown",
   "metadata": {},
   "source": [
    "## Transactions\n",
    "We are interested in the actual transactions, so we'll analyze the trans.csv file"
   ]
  },
  {
   "cell_type": "code",
   "execution_count": 22,
   "metadata": {},
   "outputs": [
    {
     "name": "stderr",
     "output_type": "stream",
     "text": [
      "/usr/local/lib/python3.5/dist-packages/IPython/core/interactiveshell.py:2728: DtypeWarning: Columns (8) have mixed types. Specify dtype option on import or set low_memory=False.\n",
      "  interactivity=interactivity, compiler=compiler, result=result)\n"
     ]
    },
    {
     "name": "stdout",
     "output_type": "stream",
     "text": [
      "   trans_id  account_id    date    type operation  amount  balance k_symbol  \\\n",
      "0    695247        2378  930101  PRIJEM     VKLAD   700.0    700.0      NaN   \n",
      "1    171812         576  930101  PRIJEM     VKLAD   900.0    900.0      NaN   \n",
      "2    207264         704  930101  PRIJEM     VKLAD  1000.0   1000.0      NaN   \n",
      "3   1117247        3818  930101  PRIJEM     VKLAD   600.0    600.0      NaN   \n",
      "4    579373        1972  930102  PRIJEM     VKLAD   400.0    400.0      NaN   \n",
      "\n",
      "  bank  account  \n",
      "0  NaN      NaN  \n",
      "1  NaN      NaN  \n",
      "2  NaN      NaN  \n",
      "3  NaN      NaN  \n",
      "4  NaN      NaN  \n",
      "(1056320, 10)\n",
      "<class 'pandas.core.frame.DataFrame'>\n",
      "RangeIndex: 1056320 entries, 0 to 1056319\n",
      "Data columns (total 10 columns):\n",
      "trans_id      1056320 non-null int64\n",
      "account_id    1056320 non-null int64\n",
      "date          1056320 non-null int64\n",
      "type          1056320 non-null object\n",
      "operation     873206 non-null object\n",
      "amount        1056320 non-null float64\n",
      "balance       1056320 non-null float64\n",
      "k_symbol      521006 non-null object\n",
      "bank          273508 non-null object\n",
      "account       295389 non-null float64\n",
      "dtypes: float64(3), int64(3), object(4)\n",
      "memory usage: 80.6+ MB\n",
      "None\n"
     ]
    }
   ],
   "source": [
    "df = pd.read_csv('parsed/trans.csv')\n",
    "print(df.head())\n",
    "print(df.shape)\n",
    "print(df.info())"
   ]
  },
  {
   "cell_type": "markdown",
   "metadata": {},
   "source": [
    "### Number of transactions per account\n",
    "We group the accounts and check the number of transactions for each account"
   ]
  },
  {
   "cell_type": "code",
   "execution_count": 5,
   "metadata": {},
   "outputs": [
    {
     "data": {
      "text/plain": [
       "count    4500.000000\n",
       "mean      234.737778\n",
       "std       126.849443\n",
       "min         9.000000\n",
       "25%       133.000000\n",
       "50%       208.000000\n",
       "75%       330.000000\n",
       "max       675.000000\n",
       "Name: transaction_count, dtype: float64"
      ]
     },
     "execution_count": 5,
     "metadata": {},
     "output_type": "execute_result"
    }
   ],
   "source": [
    "df_tc = df.groupby('account_id', as_index=False).size().rename('transaction_count').reset_index()\n",
    "df_tc['transaction_count'].describe()"
   ]
  },
  {
   "cell_type": "markdown",
   "metadata": {},
   "source": [
    "We have 4500 accounts, with the 25th percentile being at 133 transactions per account. We take only the accounts from the 25th percentile to the 100th"
   ]
  },
  {
   "cell_type": "code",
   "execution_count": 6,
   "metadata": {},
   "outputs": [
    {
     "name": "stdout",
     "output_type": "stream",
     "text": [
      "75% of transactions are in 3381 accounts\n"
     ]
    }
   ],
   "source": [
    "account_id_list = df_tc[df_tc['transaction_count'] >= 133]['account_id'].tolist()\n",
    "print('75% of transactions are in', len(account_id_list), 'accounts')"
   ]
  },
  {
   "cell_type": "markdown",
   "metadata": {},
   "source": [
    "### Dates used\n",
    "We now check when the starting and ending date of the transactions is"
   ]
  },
  {
   "cell_type": "code",
   "execution_count": 7,
   "metadata": {},
   "outputs": [
    {
     "name": "stdout",
     "output_type": "stream",
     "text": [
      "Total days with transactions: 2191\n",
      "Start: 930101\n",
      "End: 981231\n"
     ]
    }
   ],
   "source": [
    "print('Total days with transactions:', len(df[df['account_id'].isin(account_id_list)]['date'].unique()))\n",
    "min_date = df['date'].min()\n",
    "max_date = df['date'].max()\n",
    "print('Start:', min_date)\n",
    "print('End:', max_date)"
   ]
  },
  {
   "cell_type": "markdown",
   "metadata": {},
   "source": [
    "This means that the average 234 transactions are over 2200 days, only the 11% is covered"
   ]
  },
  {
   "cell_type": "markdown",
   "metadata": {},
   "source": [
    "### Analysis of the transactions"
   ]
  },
  {
   "cell_type": "code",
   "execution_count": 4,
   "metadata": {},
   "outputs": [
    {
     "data": {
      "text/plain": [
       "(4500, 2190)"
      ]
     },
     "execution_count": 4,
     "metadata": {},
     "output_type": "execute_result"
    }
   ],
   "source": [
    "transactions = np.load(\"usable/transactions.npy\")\n",
    "transactions.shape"
   ]
  },
  {
   "cell_type": "code",
   "execution_count": 5,
   "metadata": {},
   "outputs": [
    {
     "name": "stdout",
     "output_type": "stream",
     "text": [
      "mean 56.72091\n",
      "min -87400.0\n",
      "max 74812.0\n"
     ]
    }
   ],
   "source": [
    "print('mean', np.mean(transactions))\n",
    "print('min', np.min(transactions))\n",
    "print('max', np.max(transactions))"
   ]
  },
  {
   "cell_type": "code",
   "execution_count": 6,
   "metadata": {},
   "outputs": [
    {
     "data": {
      "text/plain": [
       "[<matplotlib.lines.Line2D at 0x7f98c8e30be0>]"
      ]
     },
     "execution_count": 6,
     "metadata": {},
     "output_type": "execute_result"
    },
    {
     "data": {
      "image/png": "[encoded data removed]",
      "text/plain": [
       "<matplotlib.figure.Figure at 0x7f9900795828>"
      ]
     },
     "metadata": {},
     "output_type": "display_data"
    }
   ],
   "source": [
    "unique_items, counts = np.unique(np.array(transactions), return_counts=True)\n",
    "plt.plot(unique_items, counts)"
   ]
  },
  {
   "cell_type": "markdown",
   "metadata": {},
   "source": [
    "0 is the value that occurs almost everytime"
   ]
  },
  {
   "cell_type": "code",
   "execution_count": 7,
   "metadata": {},
   "outputs": [
    {
     "name": "stdout",
     "output_type": "stream",
     "text": [
      "values with highest count: [    0.    -14.6   -30.  -2400.  -1800. ] [9044551   73907    4230    3631    3399]\n"
     ]
    },
    {
     "data": {
      "text/plain": [
       "[<matplotlib.lines.Line2D at 0x7f98c8da5358>]"
      ]
     },
     "execution_count": 7,
     "metadata": {},
     "output_type": "execute_result"
    },
    {
     "data": {
      "image/png": "[encoded data removed]",
      "text/plain": [
       "<matplotlib.figure.Figure at 0x7f98cae90a58>"
      ]
     },
     "metadata": {},
     "output_type": "display_data"
    }
   ],
   "source": [
    "sorted_indexes = np.argsort(-counts)\n",
    "counts = counts[sorted_indexes]\n",
    "unique_items = unique_items[sorted_indexes]\n",
    "\n",
    "print('values with highest count:', unique_items[:5], counts[:5])\n",
    "plt.plot(counts[5:])"
   ]
  },
  {
   "cell_type": "markdown",
   "metadata": {},
   "source": [
    "The values still follow a standard Zipf's distribution, but the bad thing is that is extremely heavy tailed"
   ]
  },
  {
   "cell_type": "code",
   "execution_count": 8,
   "metadata": {},
   "outputs": [
    {
     "data": {
      "text/plain": [
       "[<matplotlib.lines.Line2D at 0x7f98c8d6e198>]"
      ]
     },
     "execution_count": 8,
     "metadata": {},
     "output_type": "execute_result"
    },
    {
     "data": {
      "image/png": "[encoded data removed]",
      "text/plain": [
       "<matplotlib.figure.Figure at 0x7f98c8e53390>"
      ]
     },
     "metadata": {},
     "output_type": "display_data"
    }
   ],
   "source": [
    "plt.plot(counts[-24000:])"
   ]
  },
  {
   "cell_type": "markdown",
   "metadata": {},
   "source": [
    "We have around 10k values appearing only once"
   ]
  },
  {
   "cell_type": "code",
   "execution_count": null,
   "metadata": {},
   "outputs": [],
   "source": []
  }
 ],
 "metadata": {
  "kernelspec": {
   "display_name": "Python 3",
   "language": "python",
   "name": "python3"
  },
  "language_info": {
   "codemirror_mode": {
    "name": "ipython",
    "version": 3
   },
   "file_extension": ".py",
   "mimetype": "text/x-python",
   "name": "python",
   "nbconvert_exporter": "python",
   "pygments_lexer": "ipython3",
   "version": "3.5.2"
  }
 },
 "nbformat": 4,
 "nbformat_minor": 2
}
