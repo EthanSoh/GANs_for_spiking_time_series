{
 "cells": [
  {
   "cell_type": "code",
   "execution_count": 40,
   "metadata": {},
   "outputs": [
    {
     "name": "stdout",
     "output_type": "stream",
     "text": [
      "Populating the interactive namespace from numpy and matplotlib\n"
     ]
    }
   ],
   "source": [
    "import os\n",
    "import keras\n",
    "from sklearn.preprocessing import MinMaxScaler\n",
    "from keras.models import load_model, Sequential\n",
    "from keras import Input, Model\n",
    "from keras.layers import Lambda, LSTM, RepeatVector, Dense, TimeDistributed, Bidirectional\n",
    "import tensorflow as tf\n",
    "import keras.backend as K\n",
    "%pylab inline"
   ]
  },
  {
   "cell_type": "code",
   "execution_count": 41,
   "metadata": {},
   "outputs": [],
   "source": [
    "run_folder = 'logs/2018-02-23_17-36-49'\n",
    "balances_filepath = \"../../berka_dataset/parsed/balances.npy\""
   ]
  },
  {
   "cell_type": "code",
   "execution_count": 42,
   "metadata": {},
   "outputs": [],
   "source": [
    "def get_balances(balances_filepath, timesteps=100, rescale=True):\n",
    "    def split_balances(balances, timesteps):\n",
    "        if balances.shape[1] < timesteps:\n",
    "            return None\n",
    "        elif balances.shape[1] == timesteps:\n",
    "            return balances\n",
    "        else:\n",
    "            splitted_balances, remaining_balances = np.hsplit(balances, [timesteps])\n",
    "            remaining_balances = split_balances(remaining_balances, timesteps)\n",
    "            if remaining_balances is not None:\n",
    "                return np.vstack([splitted_balances, remaining_balances])\n",
    "            return splitted_balances\n",
    "\n",
    "    balances = np.load(balances_filepath)\n",
    "    if rescale:\n",
    "        balances = MinMaxScaler(feature_range=(-1, 1)).fit_transform(balances)\n",
    "    balances = split_balances(balances, timesteps)\n",
    "    return balances"
   ]
  },
  {
   "cell_type": "code",
   "execution_count": 43,
   "metadata": {},
   "outputs": [
    {
     "name": "stderr",
     "output_type": "stream",
     "text": [
      "/home/ubuntu/.local/lib/python3.5/site-packages/keras/models.py:255: UserWarning: No training configuration found in save file: the model was *not* compiled. Compile it manually.\n",
      "  warnings.warn('No training configuration found in save file: '\n"
     ]
    },
    {
     "name": "stdout",
     "output_type": "stream",
     "text": [
      "_________________________________________________________________\n",
      "Layer (type)                 Output Shape              Param #   \n",
      "=================================================================\n",
      "inputs (InputLayer)          (None, 100)               0         \n",
      "_________________________________________________________________\n",
      "lambda_1 (Lambda)            (None, 100, 1)            0         \n",
      "_________________________________________________________________\n",
      "bidirectional_1 (Bidirection (None, 512)               528384    \n",
      "_________________________________________________________________\n",
      "embedding (Dense)            (None, 10)                5130      \n",
      "_________________________________________________________________\n",
      "repeat_vector_1 (RepeatVecto (None, 100, 10)           0         \n",
      "_________________________________________________________________\n",
      "bidirectional_2 (Bidirection (None, 100, 512)          546816    \n",
      "_________________________________________________________________\n",
      "time_distributed_1 (TimeDist (None, 100, 1)            513       \n",
      "_________________________________________________________________\n",
      "outputs (Lambda)             (None, 100)               0         \n",
      "=================================================================\n",
      "Total params: 1,080,843\n",
      "Trainable params: 1,080,843\n",
      "Non-trainable params: 0\n",
      "_________________________________________________________________\n",
      "None\n",
      "_________________________________________________________________\n",
      "Layer (type)                 Output Shape              Param #   \n",
      "=================================================================\n",
      "input_7 (InputLayer)         (None, 10)                0         \n",
      "_________________________________________________________________\n",
      "repeat_vector_1 (RepeatVecto (None, 100, 10)           0         \n",
      "_________________________________________________________________\n",
      "bidirectional_2 (Bidirection (None, 100, 512)          546816    \n",
      "_________________________________________________________________\n",
      "time_distributed_1 (TimeDist (None, 100, 1)            513       \n",
      "_________________________________________________________________\n",
      "outputs (Lambda)             (None, 100)               0         \n",
      "=================================================================\n",
      "Total params: 547,329\n",
      "Trainable params: 547,329\n",
      "Non-trainable params: 0\n",
      "_________________________________________________________________\n",
      "None\n"
     ]
    }
   ],
   "source": [
    "balances = get_balances(balances_filepath)\n",
    "\n",
    "encoder = load_model(os.path.join(run_folder, 'encoder.h5'))\n",
    "autoencoder = load_model(os.path.join(run_folder, 'autoencoder.h5'))\n",
    "\n",
    "decoder_inputs = Input(shape=(10,))\n",
    "\n",
    "decoder = autoencoder.get_layer(index=-4)(decoder_inputs)\n",
    "decoder = autoencoder.get_layer(index=-3)(decoder)\n",
    "decoder = autoencoder.get_layer(index=-2)(decoder)\n",
    "decoder = autoencoder.get_layer(index=-1)(decoder)\n",
    "decoder = Model(decoder_inputs, decoder)\n",
    "\n",
    "print(autoencoder.summary())\n",
    "print(decoder.summary())"
   ]
  },
  {
   "cell_type": "code",
   "execution_count": 44,
   "metadata": {},
   "outputs": [
    {
     "data": {
      "text/plain": [
       "[<matplotlib.lines.Line2D at 0x7f06c5aa1080>]"
      ]
     },
     "execution_count": 44,
     "metadata": {},
     "output_type": "execute_result"
    },
    {
     "data": {
      "image/png": "[encoded data removed]",
      "text/plain": [
       "<matplotlib.figure.Figure at 0x7f06d10ab780>"
      ]
     },
     "metadata": {},
     "output_type": "display_data"
    }
   ],
   "source": [
    "plt.plot(balances[50])\n",
    "encoding_1 = encoder.predict(balances[50:51])\n",
    "plt.plot(decoder.predict(encoding_1).T)"
   ]
  },
  {
   "cell_type": "code",
   "execution_count": 46,
   "metadata": {},
   "outputs": [
    {
     "data": {
      "text/plain": [
       "[<matplotlib.lines.Line2D at 0x7f06c5a95a90>]"
      ]
     },
     "execution_count": 46,
     "metadata": {},
     "output_type": "execute_result"
    },
    {
     "data": {
      "image/png": "[encoded data removed]",
      "text/plain": [
       "<matplotlib.figure.Figure at 0x7f06c5ab4240>"
      ]
     },
     "metadata": {},
     "output_type": "display_data"
    }
   ],
   "source": [
    "plt.plot(balances[300])\n",
    "encoding_2 = encoder.predict(balances[1001:1002])\n",
    "plt.plot(decoder.predict(encoding_2).T)"
   ]
  },
  {
   "cell_type": "code",
   "execution_count": 10,
   "metadata": {},
   "outputs": [
    {
     "name": "stdout",
     "output_type": "stream",
     "text": [
      "[[-0.12453413 -0.2246185  -0.5095274   0.2048307   0.25098908 -0.39780247\n",
      "   0.18015534 -0.07430556 -0.15008005  0.23885578]]\n"
     ]
    }
   ],
   "source": [
    "print(encoding_1 - encoding_2)"
   ]
  },
  {
   "cell_type": "code",
   "execution_count": 14,
   "metadata": {},
   "outputs": [
    {
     "data": {
      "text/plain": [
       "[<matplotlib.lines.Line2D at 0x7f0749a1aac8>]"
      ]
     },
     "execution_count": 14,
     "metadata": {},
     "output_type": "execute_result"
    },
    {
     "data": {
      "image/png": "[encoded data removed]",
      "text/plain": [
       "<matplotlib.figure.Figure at 0x7f0749a51978>"
      ]
     },
     "metadata": {},
     "output_type": "display_data"
    }
   ],
   "source": []
  },
  {
   "cell_type": "code",
   "execution_count": null,
   "metadata": {},
   "outputs": [],
   "source": []
  }
 ],
 "metadata": {
  "kernelspec": {
   "display_name": "Python 3",
   "language": "python",
   "name": "python3"
  },
  "language_info": {
   "codemirror_mode": {
    "name": "ipython",
    "version": 3
   },
   "file_extension": ".py",
   "mimetype": "text/x-python",
   "name": "python",
   "nbconvert_exporter": "python",
   "pygments_lexer": "ipython3",
   "version": "3.5.2"
  }
 },
 "nbformat": 4,
 "nbformat_minor": 1
}
