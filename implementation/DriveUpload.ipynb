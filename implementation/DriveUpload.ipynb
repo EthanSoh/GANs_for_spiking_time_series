{
 "cells": [
  {
   "cell_type": "code",
   "execution_count": 13,
   "metadata": {},
   "outputs": [],
   "source": [
    "from pydrive.auth import GoogleAuth\n",
    "from pydrive.drive import GoogleDrive\n",
    "import shutil\n",
    "\n",
    "import os"
   ]
  },
  {
   "cell_type": "code",
   "execution_count": 4,
   "metadata": {},
   "outputs": [
    {
     "name": "stdout",
     "output_type": "stream",
     "text": [
      "Your browser has been opened to visit:\n",
      "\n",
      "    https://accounts.google.com/o/oauth2/auth?response_type=code&redirect_uri=http%3A%2F%2Flocalhost%3A8080%2F&client_id=572718141046-f8g07ehr4tkp4pphoghje7oao43kuoiq.apps.googleusercontent.com&scope=https%3A%2F%2Fwww.googleapis.com%2Fauth%2Fdrive&access_type=offline\n",
      "\n",
      "Authentication successful.\n"
     ]
    }
   ],
   "source": [
    "gauth = GoogleAuth()\n",
    "gauth.LocalWebserverAuth()\n",
    "\n",
    "drive = GoogleDrive(gauth)"
   ]
  },
  {
   "cell_type": "code",
   "execution_count": 22,
   "metadata": {},
   "outputs": [],
   "source": [
    "compressed_folders = {}"
   ]
  },
  {
   "cell_type": "code",
   "execution_count": 23,
   "metadata": {},
   "outputs": [
    {
     "name": "stdout",
     "output_type": "stream",
     "text": [
      "added 2018-04-04_22-59-16 to compressed_folders\n",
      "added 2018-04-04_10-50-16 to compressed_folders\n",
      "added 2018-04-05_15-10-40 to compressed_folders\n",
      "added 2018-04-04_18-47-17 to compressed_folders\n",
      "added 2018-04-04_16-42-08 to compressed_folders\n"
     ]
    },
    {
     "data": {
      "text/plain": [
       "{'2018-04-04_10-50-16': 1522831860.6887107,\n",
       " '2018-04-04_16-42-08': 1522852969.3156402,\n",
       " '2018-04-04_18-47-17': 1522860516.2251933,\n",
       " '2018-04-04_22-59-16': 1522875636.4210176,\n",
       " '2018-04-05_15-10-40': 1522933930.7967646}"
      ]
     },
     "execution_count": 23,
     "metadata": {},
     "output_type": "execute_result"
    }
   ],
   "source": [
    "for file in os.listdir('wgan'):\n",
    "    if '.' not in file:\n",
    "        last_edited = os.stat('wgan/' + file).st_mtime\n",
    "        if (file not in compressed_folders) or (file in compressed_folders and last_edited > compressed_folders[file]):\n",
    "            compressed_folders[file] = last_edited\n",
    "            shutil.make_archive(file, 'zip', 'wgan/' + file)   \n",
    "            print('added', file, 'to compressed_folders')\n",
    "compressed_folders"
   ]
  },
  {
   "cell_type": "code",
   "execution_count": null,
   "metadata": {},
   "outputs": [],
   "source": [
    "file = drive.CreateFile()\n",
    "file.SetContentFile('wgan.zip')\n",
    "file.Upload()"
   ]
  }
 ],
 "metadata": {
  "kernelspec": {
   "display_name": "Python 3",
   "language": "python",
   "name": "python3"
  },
  "language_info": {
   "codemirror_mode": {
    "name": "ipython",
    "version": 3
   },
   "file_extension": ".py",
   "mimetype": "text/x-python",
   "name": "python",
   "nbconvert_exporter": "python",
   "pygments_lexer": "ipython3",
   "version": "3.5.2"
  }
 },
 "nbformat": 4,
 "nbformat_minor": 2
}
