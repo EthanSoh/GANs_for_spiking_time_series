{
 "cells": [
  {
   "cell_type": "code",
   "execution_count": null,
   "metadata": {
    "scrolled": false
   },
   "outputs": [],
   "source": [
    "%pylab inline\n",
    "\n",
    "from datetime import datetime\n",
    "from pathlib import Path\n",
    "\n",
    "import utils\n",
    "from keras.callbacks import *\n",
    "from wgan import WGAN"
   ]
  },
  {
   "cell_type": "code",
   "execution_count": null,
   "metadata": {},
   "outputs": [],
   "source": [
    "normalized_transactions_filepath = \"../../datasets/berka_dataset/usable/normalized_transactions_months.npy\"\n",
    "timesteps = 90\n",
    "dataset = utils.load_splitted_dataset(normalized_transactions_filepath, timesteps)\n",
    "\n",
    "# timesteps = 100\n",
    "# dataset = utils.load_resized_mnist(10)\n",
    "\n",
    "np.random.shuffle(dataset)"
   ]
  },
  {
   "cell_type": "code",
   "execution_count": null,
   "metadata": {},
   "outputs": [],
   "source": [
    "batch_size = 64\n",
    "epochs = 5000000\n",
    "n_critic = 5\n",
    "n_generator = 1\n",
    "latent_dim = 2\n",
    "generator_lr = 0.00005\n",
    "critic_lr = 0.00005\n",
    "clip_value = 0.025\n",
    "img_frequency = 250\n",
    "loss_frequency = 250\n",
    "latent_space_frequency = 500\n",
    "model_save_frequency = 3000\n",
    "dataset_generation_frequency = 25000\n",
    "dataset_generation_size = 100000\n",
    "packing_degree = 1\n",
    "\n",
    "root_path = Path('wgan')\n",
    "if not root_path.exists():\n",
    "    root_path.mkdir()\n",
    "    \n",
    "current_datetime = datetime.now().strftime('%Y-%m-%d_%H-%M-%S')\n",
    "\n",
    "run_dir = root_path / current_datetime\n",
    "img_dir = run_dir / 'img'\n",
    "model_dir = run_dir / 'models'\n",
    "generated_datesets_dir = run_dir / 'generated_datasets'\n",
    "\n",
    "img_dir.mkdir(parents=True)\n",
    "model_dir.mkdir(parents=True)\n",
    "generated_datesets_dir.mkdir(parents=True)"
   ]
  },
  {
   "cell_type": "code",
   "execution_count": null,
   "metadata": {
    "scrolled": true
   },
   "outputs": [],
   "source": [
    "wgan = WGAN(timesteps, latent_dim, packing_degree, run_dir, img_dir, model_dir, generated_datesets_dir)\n",
    "# gan, generator, critic = wgan.restore_training()\n",
    "gan, generator, critic = wgan.build_models(generator_lr, critic_lr)\n",
    "        \n",
    "losses = wgan.train(batch_size, epochs, n_generator, n_critic, dataset, clip_value,\n",
    "           img_frequency, loss_frequency, latent_space_frequency, model_save_frequency, dataset_generation_frequency, dataset_generation_size)"
   ]
  },
  {
   "cell_type": "code",
   "execution_count": null,
   "metadata": {},
   "outputs": [],
   "source": []
  }
 ],
 "metadata": {
  "kernelspec": {
   "display_name": "Python 3",
   "language": "python",
   "name": "python3"
  },
  "language_info": {
   "codemirror_mode": {
    "name": "ipython",
    "version": 3
   },
   "file_extension": ".py",
   "mimetype": "text/x-python",
   "name": "python",
   "nbconvert_exporter": "python",
   "pygments_lexer": "ipython3",
   "version": "3.5.2"
  }
 },
 "nbformat": 4,
 "nbformat_minor": 2
}
