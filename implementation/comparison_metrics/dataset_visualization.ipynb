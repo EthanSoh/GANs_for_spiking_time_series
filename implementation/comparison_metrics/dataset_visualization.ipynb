{
 "cells": [
  {
   "cell_type": "code",
   "execution_count": 10,
   "metadata": {},
   "outputs": [],
   "source": [
    "import sys\n",
    "sys.path.append(\"..\")\n",
    "from generative_models import utils\n",
    "\n",
    "from matplotlib import pyplot as plt\n",
    "import numpy as np\n",
    "\n",
    "from keras.datasets import mnist"
   ]
  },
  {
   "cell_type": "code",
   "execution_count": 20,
   "metadata": {},
   "outputs": [],
   "source": [
    "def timeserie_to_bitmap(timeserie, window_size):\n",
    "    def discretize_timeserie(timeserie, sections_n):\n",
    "        processed_timeserie = np.array(timeserie)\n",
    "        split = 2 / sections_n\n",
    "        for i in range(sections_n):\n",
    "            processed_timeserie[np.logical_and(processed_timeserie > (-1 + split * i), processed_timeserie < (-1 + split * (i + 1)))] = -1 + split * i\n",
    "        return processed_timeserie\n",
    "    \n",
    "    sections_n = 4\n",
    "    split = 2 / sections_n\n",
    "    side = int(np.sqrt(sections_n))\n",
    "    bitmap_side = side * window_size\n",
    "\n",
    "    bitmap = np.zeros((bitmap_side, bitmap_side))\n",
    "    \n",
    "    processed_timeserie = discretize_timeserie(timeserie, sections_n)\n",
    "    \n",
    "    i = 0\n",
    "    while i * window_size  <= len(processed_timeserie)-window_size:\n",
    "        index_i = bitmap_side\n",
    "        index_j = bitmap_side\n",
    "        for j in range(window_size):\n",
    "            element = processed_timeserie[i*window_size + j]\n",
    "            if element == -1:\n",
    "                index_i /= 2\n",
    "                index_j /= 2\n",
    "            elif element == -1 + split:\n",
    "                index_i /= 2\n",
    "            elif element == -1 + 2 * split:\n",
    "                index_j /= 2\n",
    "            else:\n",
    "                pass\n",
    "            \n",
    "            index_i = int(index_i)\n",
    "            index_j = int(index_j)\n",
    "        bitmap[index_i-1, index_j-1] += 1\n",
    "        i += 1\n",
    "    bitmap /= np.max(bitmap)\n",
    "    return bitmap\n",
    "\n",
    "def generate_bitmaps(dataset, window_size):\n",
    "    bitmaps = []\n",
    "    for i in range(dataset.shape[0]):\n",
    "        if i % 10000 == 0:\n",
    "            print(i, '/', dataset.shape[0])\n",
    "        bitmaps.append(timeserie_to_bitmap(dataset[i], window_size))\n",
    "    return np.array(bitmaps)"
   ]
  },
  {
   "cell_type": "code",
   "execution_count": 21,
   "metadata": {},
   "outputs": [],
   "source": [
    "timesteps = 90\n",
    "elements = 50000\n",
    "\n",
    "transactions_filepath = '../../datasets/berka_dataset/usable/normalized_transactions_months.npy'\n",
    "real_data = utils.load_splitted_dataset(transactions_filepath, timesteps)[:elements]\n",
    "\n",
    "vanilla_generated_data_filepath = '../generative_models/wgan_gp/outputs/final/vanilla/generated_datasets/1000000_generated_data.npy'    \n",
    "generated_vanilla = np.load(vanilla_generated_data_filepath)\n",
    "\n",
    "mbd_generated_data_filepath = '../generative_models/wgan_gp/outputs/final/mbd/generated_datasets/1000000_generated_data.npy'    \n",
    "generated_mbd = np.load(mbd_generated_data_filepath)\n",
    "\n",
    "packing_generated_data_filepath = '../generative_models/wgan_gp/outputs/final/packing/generated_datasets/1000000_generated_data.npy'    \n",
    "generated_packing = np.load(packing_generated_data_filepath)"
   ]
  },
  {
   "cell_type": "code",
   "execution_count": 8,
   "metadata": {},
   "outputs": [
    {
     "name": "stdout",
     "output_type": "stream",
     "text": [
      "0 / 50000\n",
      "10000 / 50000\n",
      "20000 / 50000\n",
      "30000 / 50000\n",
      "40000 / 50000\n"
     ]
    },
    {
     "data": {
      "image/png": "[encoded data removed]",
      "text/plain": [
       "<matplotlib.figure.Figure at 0x7fbc51ab9b70>"
      ]
     },
     "metadata": {},
     "output_type": "display_data"
    },
    {
     "name": "stdout",
     "output_type": "stream",
     "text": [
      "0 / 50000\n",
      "10000 / 50000\n",
      "20000 / 50000\n",
      "30000 / 50000\n",
      "40000 / 50000\n"
     ]
    },
    {
     "data": {
      "image/png": "[encoded data removed]",
      "text/plain": [
       "<matplotlib.figure.Figure at 0x7fbc4d31fba8>"
      ]
     },
     "metadata": {},
     "output_type": "display_data"
    },
    {
     "name": "stdout",
     "output_type": "stream",
     "text": [
      "0 / 50000\n",
      "10000 / 50000\n",
      "20000 / 50000\n",
      "30000 / 50000\n",
      "40000 / 50000\n"
     ]
    },
    {
     "data": {
      "image/png": "[encoded data removed]",
      "text/plain": [
       "<matplotlib.figure.Figure at 0x7fbc51a4dda0>"
      ]
     },
     "metadata": {},
     "output_type": "display_data"
    },
    {
     "name": "stdout",
     "output_type": "stream",
     "text": [
      "0 / 50000\n",
      "10000 / 50000\n",
      "20000 / 50000\n",
      "30000 / 50000\n",
      "40000 / 50000\n"
     ]
    },
    {
     "data": {
      "image/png": "[encoded data removed]",
      "text/plain": [
       "<matplotlib.figure.Figure at 0x7fbc51c1f208>"
      ]
     },
     "metadata": {},
     "output_type": "display_data"
    }
   ],
   "source": [
    "def plot_pair_bitmaps(bitmap_1, bitmap_2):\n",
    "    plt.subplots(1, 2)\n",
    "    plt.subplot(1, 2, 1)\n",
    "    plt.imshow(bitmap_1, cmap='jet')\n",
    "    plt.subplot(1, 2, 2)\n",
    "    plt.imshow(bitmap_2, cmap='jet')\n",
    "    plt.show()\n",
    "\n",
    "window_size = 3\n",
    "\n",
    "bitmaps_real = generate_bitmaps(real_data, window_size)\n",
    "bitmaps_real_mean = np.mean(bitmaps_real, axis=0)\n",
    "bitmaps_real_variance = np.var(bitmaps_real, axis=0)\n",
    "\n",
    "plot_pair_bitmaps(bitmaps_real_mean, bitmaps_real_variance)\n",
    "\n",
    "\n",
    "bitmaps_vanilla = generate_bitmaps(generated_vanilla, window_size)\n",
    "bitmaps_vanilla_mean = np.mean(bitmaps_vanilla, axis=0)\n",
    "bitmaps_vanilla_variance = np.var(bitmaps_vanilla, axis=0)\n",
    "\n",
    "plot_pair_bitmaps(bitmaps_vanilla_mean, bitmaps_vanilla_variance)\n",
    "\n",
    "\n",
    "bitmaps_mbd = generate_bitmaps(generated_mbd, window_size)\n",
    "bitmaps_mbd_mean = np.mean(bitmaps_mbd, axis=0)\n",
    "bitmaps_mbd_variance = np.var(bitmaps_mbd, axis=0)\n",
    "\n",
    "plot_pair_bitmaps(bitmaps_mbd_mean, bitmaps_mbd_variance)\n",
    "\n",
    "\n",
    "bitmaps_packing = generate_bitmaps(generated_packing, window_size)\n",
    "bitmaps_packing_mean = np.mean(bitmaps_packing, axis=0)\n",
    "bitmaps_packing_variance = np.var(bitmaps_packing, axis=0)\n",
    "\n",
    "plot_pair_bitmaps(bitmaps_packing_mean, bitmaps_packing_variance)"
   ]
  },
  {
   "cell_type": "code",
   "execution_count": 9,
   "metadata": {},
   "outputs": [
    {
     "data": {
      "image/png": "[encoded data removed]",
      "text/plain": [
       "<matplotlib.figure.Figure at 0x7fbc519c7f60>"
      ]
     },
     "metadata": {},
     "output_type": "display_data"
    },
    {
     "data": {
      "image/png": "[encoded data removed]",
      "text/plain": [
       "<matplotlib.figure.Figure at 0x7fbc51aa7208>"
      ]
     },
     "metadata": {},
     "output_type": "display_data"
    },
    {
     "data": {
      "image/png": "[encoded data removed]",
      "text/plain": [
       "<matplotlib.figure.Figure at 0x7fbc51aa76a0>"
      ]
     },
     "metadata": {},
     "output_type": "display_data"
    }
   ],
   "source": [
    "plot_pair_bitmaps((bitmaps_real_mean - bitmaps_vanilla_mean) ** 2, (bitmaps_real_variance - bitmaps_vanilla_variance) ** 2)\n",
    "plot_pair_bitmaps((bitmaps_real_mean - bitmaps_mbd_mean) ** 2, (bitmaps_real_variance - bitmaps_mbd_mean) ** 2)\n",
    "plot_pair_bitmaps((bitmaps_real_mean - bitmaps_packing_mean) ** 2, (bitmaps_real_variance - bitmaps_packing_mean) ** 2)"
   ]
  }
 ],
 "metadata": {
  "kernelspec": {
   "display_name": "Python 3",
   "language": "python",
   "name": "python3"
  },
  "language_info": {
   "codemirror_mode": {
    "name": "ipython",
    "version": 3
   },
   "file_extension": ".py",
   "mimetype": "text/x-python",
   "name": "python",
   "nbconvert_exporter": "python",
   "pygments_lexer": "ipython3",
   "version": "3.5.2"
  }
 },
 "nbformat": 4,
 "nbformat_minor": 2
}
