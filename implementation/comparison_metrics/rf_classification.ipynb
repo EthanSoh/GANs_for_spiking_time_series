{
 "cells": [
  {
   "cell_type": "code",
   "execution_count": 1,
   "metadata": {},
   "outputs": [
    {
     "name": "stderr",
     "output_type": "stream",
     "text": [
      "/home/luca/.local/lib/python3.5/site-packages/h5py/__init__.py:36: FutureWarning: Conversion of the second argument of issubdtype from `float` to `np.floating` is deprecated. In future, it will be treated as `np.float64 == np.dtype(float).type`.\n",
      "  from ._conv import register_converters as _register_converters\n",
      "Using TensorFlow backend.\n"
     ]
    }
   ],
   "source": [
    "import keras.backend as K\n",
    "from keras import Input, Model, Sequential\n",
    "from keras.layers import *\n",
    "from keras.optimizers import Adam, RMSprop\n",
    "from keras.callbacks import *\n",
    "\n",
    "from matplotlib import pyplot as plt\n",
    "import json\n",
    "\n",
    "import sys\n",
    "sys.path.append(\"..\")\n",
    "from generative_models import utils\n",
    "\n",
    "from sklearn.ensemble import RandomForestClassifier\n",
    "from sklearn.tree import DecisionTreeClassifier\n",
    "from sklearn import metrics\n",
    "from sklearn.metrics import confusion_matrix\n",
    "import itertools\n",
    "import random\n",
    "\n",
    "import metrics_utils"
   ]
  },
  {
   "cell_type": "code",
   "execution_count": 2,
   "metadata": {
    "code_folding": [
     0,
     78
    ]
   },
   "outputs": [],
   "source": [
    "def build_classifier():\n",
    "#     classifier = DecisionTreeClassifier(max_features=1)\n",
    "    classifier = RandomForestClassifier()\n",
    "    return classifier\n",
    "\n",
    "def evaluate_data(real_data, generated_data):\n",
    "    zero_value = metrics_utils.get_mode(real_data)\n",
    "    \n",
    "    (x_train, y_train), (x_test, y_test) = metrics_utils.combine_data(real_data, generated_data, split)\n",
    "    \n",
    "    step = 0.1\n",
    "    metrics_utils.postprocess_dataset(x_train, zero_value, step)\n",
    "    metrics_utils.postprocess_dataset(x_test, zero_value, step)\n",
    "    \n",
    "    classifier = build_classifier()\n",
    "    classifier.fit(x_train, y_train)\n",
    "    y_pred = classifier.predict(x_test)\n",
    "\n",
    "    history = {}\n",
    "    history['f1_score'] = metrics.f1_score(y_test, y_pred)\n",
    "    return history\n",
    "\n",
    "def run_comparison(real_data, generated_data_filepaths, labels):\n",
    "    histories = {}\n",
    "\n",
    "    for index, filepath in enumerate(generated_data_filepaths):\n",
    "        print(labels[index])\n",
    "        generated_data = np.load(filepath)[:elements]\n",
    "        generated_data = np.around(generated_data, 4)\n",
    "        history = evaluate_data(real_data, generated_data)\n",
    "        histories[labels[index]] = history\n",
    "    return histories"
   ]
  },
  {
   "cell_type": "code",
   "execution_count": 3,
   "metadata": {},
   "outputs": [],
   "source": [
    "timesteps = 90\n",
    "elements = 50000\n",
    "split = 0.3\n",
    "\n",
    "vanilla_color = 'r'\n",
    "mbd_color = 'g'\n",
    "packing_color = 'b'\n",
    "\n",
    "transactions_filepath = '../../datasets/berka_dataset/usable/normalized_transactions_months.npy'\n",
    "real_data = utils.load_splitted_dataset(transactions_filepath, timesteps)[:elements]"
   ]
  },
  {
   "cell_type": "markdown",
   "metadata": {},
   "source": [
    "## Models comparison"
   ]
  },
  {
   "cell_type": "code",
   "execution_count": 4,
   "metadata": {
    "scrolled": false
   },
   "outputs": [
    {
     "name": "stdout",
     "output_type": "stream",
     "text": [
      "vanilla\n",
      "mbd\n",
      "packing\n"
     ]
    },
    {
     "data": {
      "image/png": "[encoded data removed]",
      "text/plain": [
       "<matplotlib.figure.Figure at 0x7f030a649eb8>"
      ]
     },
     "metadata": {},
     "output_type": "display_data"
    }
   ],
   "source": [
    "labels = ['vanilla', 'mbd', 'packing']\n",
    "colors = [vanilla_color, mbd_color, packing_color]\n",
    "title = 'models_comparison'\n",
    "\n",
    "base_filepath = '../generative_models/wgan_gp/outputs/final/'\n",
    "end_filename = 'generated_datasets/1000000_generated_data.npy'    \n",
    "generated_data_filepaths = []    \n",
    "for label in labels:\n",
    "    generated_data_filepaths.append(base_filepath + label + '/' + end_filename)\n",
    "    \n",
    "histories = run_comparison(real_data, generated_data_filepaths, labels)\n",
    "metrics_utils.plot_metrics(histories, labels, colors, title)\n",
    "\n",
    "metrics_utils.save_to_json('rf_classification_models_comparison.json', histories)"
   ]
  },
  {
   "cell_type": "markdown",
   "metadata": {},
   "source": [
    "## Performance analysis during training"
   ]
  },
  {
   "cell_type": "code",
   "execution_count": 5,
   "metadata": {},
   "outputs": [],
   "source": [
    "labels = ['100k', '200k', '300k', '400k', '500k', '600k', '700k', '800k', '900k', '1M']\n",
    "\n",
    "transactions_filepath = '../../datasets/berka_dataset/usable/normalized_transactions_months.npy'\n",
    "real_data = utils.load_splitted_dataset(transactions_filepath, timesteps)[:elements]"
   ]
  },
  {
   "cell_type": "markdown",
   "metadata": {},
   "source": [
    "### Vanilla"
   ]
  },
  {
   "cell_type": "code",
   "execution_count": 6,
   "metadata": {
    "scrolled": false
   },
   "outputs": [
    {
     "name": "stdout",
     "output_type": "stream",
     "text": [
      "100k\n",
      "200k\n",
      "300k\n",
      "400k\n",
      "500k\n",
      "600k\n",
      "700k\n",
      "800k\n",
      "900k\n",
      "1M\n"
     ]
    },
    {
     "data": {
      "image/png": "[encoded data removed]",
      "text/plain": [
       "<matplotlib.figure.Figure at 0x7f03086239b0>"
      ]
     },
     "metadata": {},
     "output_type": "display_data"
    }
   ],
   "source": [
    "colors = [vanilla_color] * 10\n",
    "title = 'vanilla'\n",
    "\n",
    "base_filepath = '../generative_models/wgan_gp/outputs/final/vanilla/generated_datasets/'\n",
    "generated_data_filepaths = []\n",
    "for n in range(100000, 1000001, 100000):\n",
    "    generated_data_filepaths.append(base_filepath + str(n) + '_generated_data.npy')\n",
    "    \n",
    "histories = run_comparison(real_data, generated_data_filepaths, labels)\n",
    "metrics_utils.plot_metrics(histories, labels, colors, title)\n",
    "\n",
    "metrics_utils.save_to_json('rf_classification_vanilla.json', histories)"
   ]
  },
  {
   "cell_type": "markdown",
   "metadata": {},
   "source": [
    "### Mbd"
   ]
  },
  {
   "cell_type": "code",
   "execution_count": 7,
   "metadata": {
    "scrolled": false
   },
   "outputs": [
    {
     "name": "stdout",
     "output_type": "stream",
     "text": [
      "100k\n",
      "200k\n",
      "300k\n",
      "400k\n",
      "500k\n",
      "600k\n",
      "700k\n",
      "800k\n",
      "900k\n",
      "1M\n"
     ]
    },
    {
     "data": {
      "image/png": "[encoded data removed]",
      "text/plain": [
       "<matplotlib.figure.Figure at 0x7f0308599a20>"
      ]
     },
     "metadata": {},
     "output_type": "display_data"
    }
   ],
   "source": [
    "colors = [mbd_color] * 10\n",
    "title = 'mbd'\n",
    "\n",
    "base_filepath = '../generative_models/wgan_gp/outputs/final/mbd/generated_datasets/'\n",
    "generated_data_filepaths = []\n",
    "for n in range(100000, 1000001, 100000):\n",
    "    generated_data_filepaths.append(base_filepath + str(n) + '_generated_data.npy')\n",
    "    \n",
    "histories = run_comparison(real_data, generated_data_filepaths, labels)\n",
    "metrics_utils.plot_metrics(histories, labels, colors, title)\n",
    "\n",
    "metrics_utils.save_to_json('rf_classification_mbd.json', histories)"
   ]
  },
  {
   "cell_type": "markdown",
   "metadata": {},
   "source": [
    "### Packing"
   ]
  },
  {
   "cell_type": "code",
   "execution_count": 8,
   "metadata": {
    "scrolled": false
   },
   "outputs": [
    {
     "name": "stdout",
     "output_type": "stream",
     "text": [
      "100k\n",
      "200k\n",
      "300k\n",
      "400k\n",
      "500k\n",
      "600k\n",
      "700k\n",
      "800k\n",
      "900k\n",
      "1M\n"
     ]
    },
    {
     "data": {
      "image/png": "[encoded data removed]",
      "text/plain": [
       "<matplotlib.figure.Figure at 0x7f03085fa278>"
      ]
     },
     "metadata": {},
     "output_type": "display_data"
    }
   ],
   "source": [
    "colors = [packing_color] * 10\n",
    "title = 'packing'\n",
    "\n",
    "base_filepath = '../generative_models/wgan_gp/outputs/final/packing/generated_datasets/'\n",
    "generated_data_filepaths = []\n",
    "for n in range(100000, 1000001, 100000):\n",
    "    generated_data_filepaths.append(base_filepath + str(n) + '_generated_data.npy')\n",
    "    \n",
    "histories = run_comparison(real_data, generated_data_filepaths, labels)\n",
    "metrics_utils.plot_metrics(histories, labels, colors, title)\n",
    "\n",
    "metrics_utils.save_to_json('rf_classification_packing.json', histories)"
   ]
  },
  {
   "cell_type": "code",
   "execution_count": null,
   "metadata": {},
   "outputs": [],
   "source": []
  }
 ],
 "metadata": {
  "kernelspec": {
   "display_name": "Python 3",
   "language": "python",
   "name": "python3"
  },
  "language_info": {
   "codemirror_mode": {
    "name": "ipython",
    "version": 3
   },
   "file_extension": ".py",
   "mimetype": "text/x-python",
   "name": "python",
   "nbconvert_exporter": "python",
   "pygments_lexer": "ipython3",
   "version": "3.5.2"
  }
 },
 "nbformat": 4,
 "nbformat_minor": 2
}
