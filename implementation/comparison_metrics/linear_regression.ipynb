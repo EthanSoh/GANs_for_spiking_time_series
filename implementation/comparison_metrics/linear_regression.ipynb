{
 "cells": [
  {
   "cell_type": "code",
   "execution_count": 1,
   "metadata": {},
   "outputs": [
    {
     "name": "stderr",
     "output_type": "stream",
     "text": [
      "/home/luca/.local/lib/python3.5/site-packages/h5py/__init__.py:36: FutureWarning: Conversion of the second argument of issubdtype from `float` to `np.floating` is deprecated. In future, it will be treated as `np.float64 == np.dtype(float).type`.\n",
      "  from ._conv import register_converters as _register_converters\n",
      "Using TensorFlow backend.\n"
     ]
    }
   ],
   "source": [
    "import numpy as np\n",
    "from matplotlib import pyplot as plt\n",
    "import matplotlib.pyplot as plt\n",
    "\n",
    "from sklearn.linear_model import Ridge\n",
    "from sklearn.preprocessing import PolynomialFeatures\n",
    "from sklearn.pipeline import make_pipeline\n",
    "\n",
    "from sklearn.linear_model import LinearRegression\n",
    "\n",
    "import sys\n",
    "sys.path.append(\"..\")\n",
    "from generative_models import utils"
   ]
  },
  {
   "cell_type": "code",
   "execution_count": 2,
   "metadata": {},
   "outputs": [],
   "source": [
    "def split_data(data, split, targets):\n",
    "    split_index = int(data.shape[0]*split)\n",
    "    train = data[split_index:, :]\n",
    "    test = data[:split_index, :]\n",
    "    \n",
    "    x_train = train[:, :-targets]\n",
    "    y_train = train[:, -targets:]\n",
    "    x_test = test[:, :-targets]\n",
    "    y_test = test[:, -targets:]\n",
    "    \n",
    "    return (x_train, y_train), (x_test, y_test)"
   ]
  },
  {
   "cell_type": "code",
   "execution_count": 7,
   "metadata": {},
   "outputs": [],
   "source": [
    "timesteps = 90\n",
    "elements = 50000\n",
    "split = 0.3\n",
    "targets = 20\n",
    "\n",
    "generated_data_filepaths = ['../generative_models/wgan_gp/outputs/final/packing/generated_datasets/100000_generated_data.npy',\n",
    "                            '../generative_models/wgan_gp/outputs/final/packing/generated_datasets/200000_generated_data.npy',\n",
    "                            '../generative_models/wgan_gp/outputs/final/packing/generated_datasets/300000_generated_data.npy',\n",
    "                            '../generative_models/wgan_gp/outputs/final/packing/generated_datasets/400000_generated_data.npy',\n",
    "                            '../generative_models/wgan_gp/outputs/final/packing/generated_datasets/500000_generated_data.npy',\n",
    "                            '../generative_models/wgan_gp/outputs/final/packing/generated_datasets/600000_generated_data.npy',\n",
    "                            '../generative_models/wgan_gp/outputs/final/packing/generated_datasets/700000_generated_data.npy',\n",
    "                            '../generative_models/wgan_gp/outputs/final/packing/generated_datasets/800000_generated_data.npy',\n",
    "                            '../generative_models/wgan_gp/outputs/final/packing/generated_datasets/900000_generated_data.npy',\n",
    "                            '../generative_models/wgan_gp/outputs/final/packing/generated_datasets/1000000_generated_data.npy']\n",
    "transactions_filepath = '../../datasets/berka_dataset/usable/normalized_transactions_months.npy'\n",
    "\n",
    "\n",
    "real_data = utils.load_splitted_dataset(transactions_filepath, timesteps)\n",
    "np.random.shuffle(real_data)\n",
    "real_data = real_data[:elements]\n",
    "(x_train_real, y_train_real), (x_test_real, y_test_real) = split_data(real_data, split, targets)"
   ]
  },
  {
   "cell_type": "markdown",
   "metadata": {},
   "source": [
    "## Packing"
   ]
  },
  {
   "cell_type": "markdown",
   "metadata": {},
   "source": [
    "## Linear Regression"
   ]
  },
  {
   "cell_type": "code",
   "execution_count": 8,
   "metadata": {},
   "outputs": [
    {
     "name": "stdout",
     "output_type": "stream",
     "text": [
      "real_data score:  0.3132702874302747\n",
      "generated_data score:  0.2830008341947173\n",
      "generated_data score:  0.33212864224489125\n",
      "generated_data score:  0.2793742711071673\n",
      "generated_data score:  0.27132879545974015\n",
      "generated_data score:  0.25486309012344266\n",
      "generated_data score:  0.23148288674379916\n",
      "generated_data score:  0.29920165745550276\n",
      "generated_data score:  0.3286749030382857\n",
      "generated_data score:  0.2764471002765682\n",
      "generated_data score:  0.3346129603476526\n"
     ]
    },
    {
     "data": {
      "image/png": "[encoded data removed]",
      "text/plain": [
       "<matplotlib.figure.Figure at 0x7f2bf0727748>"
      ]
     },
     "metadata": {},
     "output_type": "display_data"
    }
   ],
   "source": [
    "regressor = LinearRegression()\n",
    "regressor.fit(x_train_real, y_train_real)\n",
    "print('real_data score: ', regressor.score(x_test_real, y_test_real))\n",
    "\n",
    "scores = []\n",
    "\n",
    "for filepath in generated_data_filepaths:\n",
    "    generated_data = np.load(filepath)[:elements]\n",
    "    (x_train, y_train), (x_test, y_test) = split_data(generated_data, split, targets)\n",
    "#     regressor.fit(x_train, y_train)\n",
    "    score = regressor.score(x_test, y_test)\n",
    "    scores.append(score)\n",
    "    print('generated_data score: ', score)\n",
    "    \n",
    "plt.plot(scores)\n",
    "plt.show()"
   ]
  },
  {
   "cell_type": "markdown",
   "metadata": {},
   "source": [
    "## Ridge Regression"
   ]
  },
  {
   "cell_type": "code",
   "execution_count": 9,
   "metadata": {},
   "outputs": [
    {
     "name": "stdout",
     "output_type": "stream",
     "text": [
      "real_data score:  0.3132920834028385\n",
      "generated_data score:  0.8307685169938587\n",
      "generated_data score:  0.8369308873994524\n",
      "generated_data score:  0.6955363941790836\n",
      "generated_data score:  0.6476764891711944\n",
      "generated_data score:  0.604920603094146\n",
      "generated_data score:  0.6040819919239214\n",
      "generated_data score:  0.600411627935054\n",
      "generated_data score:  0.6238285349250123\n",
      "generated_data score:  0.5878637523283939\n",
      "generated_data score:  0.6125930544322926\n"
     ]
    },
    {
     "data": {
      "image/png": "[encoded data removed]",
      "text/plain": [
       "<matplotlib.figure.Figure at 0x7f2bf27877b8>"
      ]
     },
     "metadata": {},
     "output_type": "display_data"
    }
   ],
   "source": [
    "regressor = Ridge()\n",
    "regressor.fit(x_train_real, y_train_real)\n",
    "print('real_data score: ', regressor.score(x_test_real, y_test_real))\n",
    "\n",
    "scores = []\n",
    "\n",
    "for filepath in generated_data_filepaths:\n",
    "    generated_data = np.load(filepath)[:elements]\n",
    "    (x_train, y_train), (x_test, y_test) = split_data(generated_data, split, targets)\n",
    "    regressor.fit(x_train, y_train)\n",
    "    score = regressor.score(x_test, y_test)\n",
    "    scores.append(score)\n",
    "    print('generated_data score: ', score)\n",
    "    \n",
    "plt.plot(scores)\n",
    "plt.show()"
   ]
  },
  {
   "cell_type": "markdown",
   "metadata": {},
   "source": [
    "## Polynomial Regression"
   ]
  },
  {
   "cell_type": "code",
   "execution_count": 8,
   "metadata": {},
   "outputs": [
    {
     "name": "stdout",
     "output_type": "stream",
     "text": [
      "real_data score:  -86.31945431133074\n",
      "generated_data score:  -0.11597622743283106\n",
      "generated_data score:  -0.17406110071137637\n",
      "generated_data score:  -0.18750193446202834\n",
      "generated_data score:  -0.06566705702331364\n",
      "generated_data score:  -0.08692286868046523\n",
      "generated_data score:  -0.018871690476561804\n",
      "generated_data score:  -0.003960795451717969\n",
      "generated_data score:  0.07855471728096364\n",
      "generated_data score:  0.07253513409969531\n",
      "generated_data score:  0.6254749264733213\n"
     ]
    },
    {
     "data": {
      "image/png": "[encoded data removed]",
      "text/plain": [
       "<matplotlib.figure.Figure at 0x7f7a933a10f0>"
      ]
     },
     "metadata": {},
     "output_type": "display_data"
    }
   ],
   "source": [
    "degree = 2\n",
    "elements = 10000\n",
    "\n",
    "real_data = utils.load_splitted_dataset(transactions_filepath, timesteps)\n",
    "np.random.shuffle(real_data)\n",
    "real_data = real_data[:elements]\n",
    "(x_train_real, y_train_real), (x_test_real, y_test_real) = split_data(real_data, split, targets)\n",
    "\n",
    "linear_regressor = LinearRegression()\n",
    "polynomial_features = PolynomialFeatures(degree=degree)\n",
    "x_train_real_ = polynomial_features.fit_transform(x_train_real)\n",
    "linear_regressor.fit(x_train_real_, y_train_real)\n",
    "x_test_real_ = polynomial_features.fit_transform(x_test_real)\n",
    "print('real_data score: ', linear_regressor.score(x_test_real_, y_test_real))\n",
    "\n",
    "scores = []\n",
    "for filepath in generated_data_filepaths:\n",
    "    generated_data = np.load(filepath)[:elements]\n",
    "    (x_train, y_train), (x_test, y_test) = split_data(generated_data, split, targets)\n",
    "    x_train_ = polynomial_features.fit_transform(x_train)\n",
    "    linear_regressor.fit(x_train_, y_train)\n",
    "    x_test_ = polynomial_features.fit_transform(x_test)\n",
    "    score = regressor.score(x_test, y_test)\n",
    "    scores.append(score)\n",
    "    print('generated_data score: ', score)\n",
    "    \n",
    "plt.plot(scores)\n",
    "plt.show()"
   ]
  },
  {
   "cell_type": "code",
   "execution_count": 26,
   "metadata": {},
   "outputs": [],
   "source": [
    "generated_data_filepaths = ['../generative_models/wgan_gp/outputs/final/2018-06-12_18-48-18/generated_datasets/100000_generated_data.npy',\n",
    "                            '../generative_models/wgan_gp/outputs/final/2018-06-12_18-48-18/generated_datasets/200000_generated_data.npy',\n",
    "                            '../generative_models/wgan_gp/outputs/final/2018-06-12_18-48-18/generated_datasets/300000_generated_data.npy',\n",
    "                            '../generative_models/wgan_gp/outputs/final/2018-06-12_18-48-18/generated_datasets/400000_generated_data.npy',\n",
    "                            '../generative_models/wgan_gp/outputs/final/2018-06-12_18-48-18/generated_datasets/500000_generated_data.npy']"
   ]
  },
  {
   "cell_type": "code",
   "execution_count": 27,
   "metadata": {},
   "outputs": [
    {
     "name": "stdout",
     "output_type": "stream",
     "text": [
      "real_data score:  0.3132217744407411\n",
      "generated_data score:  0.8154293851521182\n",
      "generated_data score:  0.7384873568778895\n",
      "generated_data score:  0.7104108343299006\n",
      "generated_data score:  0.6984453481523812\n",
      "generated_data score:  0.6973100410615422\n"
     ]
    },
    {
     "data": {
      "image/png": "[encoded data removed]",
      "text/plain": [
       "<matplotlib.figure.Figure at 0x7f7a43b59898>"
      ]
     },
     "metadata": {},
     "output_type": "display_data"
    }
   ],
   "source": [
    "regressor = LinearRegression()\n",
    "regressor.fit(x_train_real, y_train_real)\n",
    "print('real_data score: ', regressor.score(x_test_real, y_test_real))\n",
    "\n",
    "scores = []\n",
    "\n",
    "for filepath in generated_data_filepaths:\n",
    "    generated_data = np.load(filepath)[:elements]\n",
    "    (x_train, y_train), (x_test, y_test) = split_data(generated_data, split, targets)\n",
    "    regressor.fit(x_train, y_train)\n",
    "    score = regressor.score(x_test, y_test)\n",
    "    scores.append(score)\n",
    "    print('generated_data score: ', score)\n",
    "    \n",
    "plt.plot(scores)\n",
    "plt.show()"
   ]
  },
  {
   "cell_type": "code",
   "execution_count": 28,
   "metadata": {},
   "outputs": [
    {
     "name": "stdout",
     "output_type": "stream",
     "text": [
      "real_data score:  0.3132422674020783\n",
      "generated_data score:  0.815306270831702\n",
      "generated_data score:  0.7385518209146623\n",
      "generated_data score:  0.7104361924229847\n",
      "generated_data score:  0.6983627962890538\n",
      "generated_data score:  0.6972706302423289\n"
     ]
    },
    {
     "data": {
      "image/png": "[encoded data removed]",
      "text/plain": [
       "<matplotlib.figure.Figure at 0x7f7a43c2f128>"
      ]
     },
     "metadata": {},
     "output_type": "display_data"
    }
   ],
   "source": [
    "regressor = Ridge()\n",
    "regressor.fit(x_train_real, y_train_real)\n",
    "print('real_data score: ', regressor.score(x_test_real, y_test_real))\n",
    "\n",
    "scores = []\n",
    "\n",
    "for filepath in generated_data_filepaths:\n",
    "    generated_data = np.load(filepath)[:elements]\n",
    "    (x_train, y_train), (x_test, y_test) = split_data(generated_data, split, targets)\n",
    "    regressor.fit(x_train, y_train)\n",
    "    score = regressor.score(x_test, y_test)\n",
    "    scores.append(score)\n",
    "    print('generated_data score: ', score)\n",
    "    \n",
    "plt.plot(scores)\n",
    "plt.show()"
   ]
  },
  {
   "cell_type": "code",
   "execution_count": 12,
   "metadata": {},
   "outputs": [
    {
     "name": "stdout",
     "output_type": "stream",
     "text": [
      "real_data score:  -91.96094880097971\n",
      "generated_data score:  -0.21452347543285685\n",
      "generated_data score:  -0.36269581723422445\n",
      "generated_data score:  -0.19138144069291121\n",
      "generated_data score:  -0.09305586522268863\n",
      "generated_data score:  0.7117886576579944\n"
     ]
    },
    {
     "data": {
      "image/png": "[encoded data removed]",
      "text/plain": [
       "<matplotlib.figure.Figure at 0x7f7a43d0cfd0>"
      ]
     },
     "metadata": {},
     "output_type": "display_data"
    }
   ],
   "source": [
    "degree = 2\n",
    "elements = 10000\n",
    "\n",
    "real_data = utils.load_splitted_dataset(transactions_filepath, timesteps)\n",
    "np.random.shuffle(real_data)\n",
    "real_data = real_data[:elements]\n",
    "(x_train_real, y_train_real), (x_test_real, y_test_real) = split_data(real_data, split, targets)\n",
    "\n",
    "linear_regressor = LinearRegression()\n",
    "polynomial_features = PolynomialFeatures(degree=degree)\n",
    "x_train_real_ = polynomial_features.fit_transform(x_train_real)\n",
    "linear_regressor.fit(x_train_real_, y_train_real)\n",
    "x_test_real_ = polynomial_features.fit_transform(x_test_real)\n",
    "print('real_data score: ', linear_regressor.score(x_test_real_, y_test_real))\n",
    "\n",
    "scores = []\n",
    "for filepath in generated_data_filepaths:\n",
    "    generated_data = np.load(filepath)[:elements]\n",
    "    (x_train, y_train), (x_test, y_test) = split_data(generated_data, split, targets)\n",
    "    x_train_ = polynomial_features.fit_transform(x_train)\n",
    "    linear_regressor.fit(x_train_, y_train)\n",
    "    x_test_ = polynomial_features.fit_transform(x_test)\n",
    "    score = regressor.score(x_test, y_test)\n",
    "    scores.append(score)\n",
    "    print('generated_data score: ', score)\n",
    "    \n",
    "plt.plot(scores)\n",
    "plt.show()"
   ]
  },
  {
   "cell_type": "code",
   "execution_count": null,
   "metadata": {},
   "outputs": [],
   "source": []
  }
 ],
 "metadata": {
  "kernelspec": {
   "display_name": "Python 2",
   "language": "python",
   "name": "python2"
  },
  "language_info": {
   "codemirror_mode": {
    "name": "ipython",
    "version": 3
   },
   "file_extension": ".py",
   "mimetype": "text/x-python",
   "name": "python",
   "nbconvert_exporter": "python",
   "pygments_lexer": "ipython3",
   "version": "3.5.2"
  }
 },
 "nbformat": 4,
 "nbformat_minor": 1
}
