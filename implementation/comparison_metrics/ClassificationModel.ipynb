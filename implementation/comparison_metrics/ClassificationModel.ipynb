{
 "cells": [
  {
   "cell_type": "code",
   "execution_count": 1,
   "metadata": {},
   "outputs": [
    {
     "name": "stderr",
     "output_type": "stream",
     "text": [
      "/home/ing-luca/.local/lib/python3.5/site-packages/h5py/__init__.py:36: FutureWarning: Conversion of the second argument of issubdtype from `float` to `np.floating` is deprecated. In future, it will be treated as `np.float64 == np.dtype(float).type`.\n",
      "  from ._conv import register_converters as _register_converters\n",
      "Using TensorFlow backend.\n"
     ]
    }
   ],
   "source": [
    "import keras.backend as K\n",
    "from keras import Input, Model, Sequential\n",
    "from keras.layers import *\n",
    "from keras.optimizers import Adam, RMSprop\n",
    "from keras.callbacks import *"
   ]
  },
  {
   "cell_type": "code",
   "execution_count": 2,
   "metadata": {},
   "outputs": [],
   "source": [
    "def split_data(dataset, timesteps):\n",
    "    D = dataset.shape[1]\n",
    "    if D < timesteps:\n",
    "        return None\n",
    "    elif D == timesteps:\n",
    "        return dataset\n",
    "    else:\n",
    "        splitted_data, remaining_data = np.hsplit(dataset, [timesteps])\n",
    "        remaining_data = split_data(remaining_data, timesteps)\n",
    "        if remaining_data is not None:\n",
    "            return np.vstack([splitted_data, remaining_data])\n",
    "        return splitted_data"
   ]
  },
  {
   "cell_type": "code",
   "execution_count": 85,
   "metadata": {},
   "outputs": [
    {
     "data": {
      "text/plain": [
       "((50000, 100), (50000, 100))"
      ]
     },
     "execution_count": 85,
     "metadata": {},
     "output_type": "execute_result"
    }
   ],
   "source": [
    "normalized_transactions_filepath = \"../datasets/berka_dataset/usable/normalized_transactions.npy\"\n",
    "generated_transactions_filepath = \"../datasets/generated_data.npy\"\n",
    "\n",
    "dataset_1_filepath = \"wgan/2018-04-04_10-50-16/generated_datasets/last.npy\"\n",
    "\n",
    "timesteps = 100\n",
    "elements = 50000\n",
    "\n",
    "real_data = np.load(normalized_transactions_filepath)\n",
    "real_data = split_data(real_data, timesteps)\n",
    "real_data = real_data[np.std(real_data, 1) > float(1e-7)][:elements]\n",
    "\n",
    "fake_data = np.load(generated_transactions_filepath)[:elements]\n",
    "\n",
    "real_data.shape, fake_data.shape"
   ]
  },
  {
   "cell_type": "code",
   "execution_count": 87,
   "metadata": {},
   "outputs": [
    {
     "data": {
      "text/plain": [
       "((80000, 100), (80000, 1), (20000, 100), (20000, 1))"
      ]
     },
     "execution_count": 87,
     "metadata": {},
     "output_type": "execute_result"
    }
   ],
   "source": [
    "split = 0.2\n",
    "\n",
    "x_train = np.vstack([real_data, fake_data]) \n",
    "y_train = np.vstack([np.zeros((elements, 1)), np.ones((elements, 1))])\n",
    "\n",
    "shuffled_indexes = np.random.permutation(x_train.shape[0])\n",
    "\n",
    "x_train = x_train[shuffled_indexes]\n",
    "y_train = y_train[shuffled_indexes]\n",
    "\n",
    "split_index = int(2*elements*split)\n",
    "\n",
    "x_test, x_train = x_train[:split_index], x_train[split_index:]\n",
    "y_test, y_train = y_train[:split_index], y_train[split_index:]\n",
    "\n",
    "\n",
    "x_train.shape, y_train.shape, x_test.shape, y_test.shape"
   ]
  },
  {
   "cell_type": "code",
   "execution_count": 88,
   "metadata": {},
   "outputs": [],
   "source": [
    "model_inputs = Input((timesteps,))\n",
    "classified = model_inputs\n",
    "\n",
    "classified = Lambda(lambda x: K.expand_dims(x))(classified)\n",
    "while classified.shape[1] > 1:\n",
    "    classified = Conv1D(32, 3, activation='relu', padding='same')(classified)\n",
    "    classified = MaxPooling1D(2, padding='same')(classified)\n",
    "classified = Flatten()(classified)\n",
    "classified = Dense(15, activation='relu')(classified)\n",
    "classified = Dense(5, activation='relu')(classified)\n",
    "classified = Dense(1, activation = 'sigmoid')(classified) \n",
    "\n",
    "classifier = Model(model_inputs, classified, 'classifier')\n",
    "classifier.compile(loss='binary_crossentropy', optimizer='adam', metrics=['accuracy'])"
   ]
  },
  {
   "cell_type": "code",
   "execution_count": 89,
   "metadata": {},
   "outputs": [
    {
     "name": "stdout",
     "output_type": "stream",
     "text": [
      "Train on 80000 samples, validate on 20000 samples\n",
      "Epoch 1/5\n",
      "80000/80000 [==============================] - 8s 101us/step - loss: 0.4327 - acc: 0.9211 - val_loss: 0.2886 - val_acc: 0.9585\n",
      "Epoch 2/5\n",
      "80000/80000 [==============================] - 7s 86us/step - loss: 0.2310 - acc: 0.9617 - val_loss: 0.1916 - val_acc: 0.9651\n",
      "Epoch 3/5\n",
      "80000/80000 [==============================] - 7s 88us/step - loss: 0.1699 - acc: 0.9669 - val_loss: 0.1543 - val_acc: 0.9686\n",
      "Epoch 4/5\n",
      "80000/80000 [==============================] - 7s 88us/step - loss: 0.1439 - acc: 0.9698 - val_loss: 0.1373 - val_acc: 0.9690\n",
      "Epoch 5/5\n",
      "80000/80000 [==============================] - 7s 88us/step - loss: 0.1308 - acc: 0.9717 - val_loss: 0.1275 - val_acc: 0.9716\n"
     ]
    },
    {
     "data": {
      "text/plain": [
       "<keras.callbacks.History at 0x7fcfaf36e908>"
      ]
     },
     "execution_count": 89,
     "metadata": {},
     "output_type": "execute_result"
    }
   ],
   "source": [
    "classifier.fit(x=x_train, y=y_train, validation_data=(x_test, y_test), epochs=5)"
   ]
  },
  {
   "cell_type": "code",
   "execution_count": null,
   "metadata": {},
   "outputs": [],
   "source": []
  }
 ],
 "metadata": {
  "kernelspec": {
   "display_name": "Python 3",
   "language": "python",
   "name": "python3"
  },
  "language_info": {
   "codemirror_mode": {
    "name": "ipython",
    "version": 3
   },
   "file_extension": ".py",
   "mimetype": "text/x-python",
   "name": "python",
   "nbconvert_exporter": "python",
   "pygments_lexer": "ipython3",
   "version": "3.5.2"
  }
 },
 "nbformat": 4,
 "nbformat_minor": 2
}
