{
 "cells": [
  {
   "cell_type": "code",
   "execution_count": 1,
   "metadata": {},
   "outputs": [
    {
     "name": "stderr",
     "output_type": "stream",
     "text": [
      "/home/luca/.local/lib/python3.5/site-packages/h5py/__init__.py:36: FutureWarning: Conversion of the second argument of issubdtype from `float` to `np.floating` is deprecated. In future, it will be treated as `np.float64 == np.dtype(float).type`.\n",
      "  from ._conv import register_converters as _register_converters\n",
      "Using TensorFlow backend.\n"
     ]
    }
   ],
   "source": [
    "import keras.backend as K\n",
    "from keras import Input, Model, Sequential\n",
    "from keras.layers import *\n",
    "from keras.optimizers import Adam, RMSprop\n",
    "from keras.callbacks import *\n",
    "\n",
    "from matplotlib import pyplot as plt\n",
    "import json\n",
    "\n",
    "import sys\n",
    "sys.path.append(\"..\")\n",
    "from generative_models import utils\n",
    "\n",
    "from sklearn.svm import SVC, SVR\n",
    "from sklearn.ensemble import RandomForestClassifier, RandomForestRegressor\n",
    "from sklearn.tree import DecisionTreeClassifier, DecisionTreeRegressor\n",
    "from sklearn.multioutput import MultiOutputRegressor\n",
    "\n",
    "from sklearn import metrics\n",
    "import itertools\n",
    "import random\n",
    "\n",
    "import metrics_utils"
   ]
  },
  {
   "cell_type": "code",
   "execution_count": 2,
   "metadata": {
    "code_folding": [
     0.0,
     78.0
    ]
   },
   "outputs": [],
   "source": [
    "def build_nn_classifier():\n",
    "    model_inputs = Input((timesteps,))\n",
    "    classified = model_inputs\n",
    "\n",
    "    classified = Dense(45, activation='relu')(classified)\n",
    "    classified = Dense(15, activation='relu')(classified)\n",
    "    classified = Dense(1, activation = 'sigmoid')(classified) \n",
    "\n",
    "    classifier = Model(model_inputs, classified, 'classifier')\n",
    "    classifier.compile(loss='binary_crossentropy', optimizer='adam') \n",
    "    return classifier\n",
    "\n",
    "def build_nn_regressor():\n",
    "    model_inputs = Input((timesteps - targets,))\n",
    "    regressed = model_inputs\n",
    "\n",
    "    regressed = Dense(15, activation='relu')(regressed)\n",
    "    regressed = Dense(5, activation='relu')(regressed)\n",
    "    regressed = Dense(targets, activation = 'tanh')(regressed) \n",
    "\n",
    "    regressor = Model(model_inputs, regressed, 'regressor')\n",
    "    regressor.compile(loss='mse', optimizer='adam') \n",
    "    return regressor\n",
    "    \n",
    "def build_classifiers(classifiers_list):\n",
    "    if 'nn' in classifiers_list:\n",
    "        assert classifiers_list[0] == 'nn'\n",
    "    \n",
    "    classifiers = []\n",
    "    for classifier in classifiers_list:\n",
    "        if classifier == 'nn':\n",
    "            classifiers.append(build_nn_classifier())\n",
    "        if classifier == 'svm':\n",
    "            classifiers.append(SVC())\n",
    "        if classifier == 'rf':\n",
    "            classifiers.append(RandomForestClassifier())\n",
    "        if classifier == 'dt':\n",
    "            classifiers.append(DecisionTreeClassifier())\n",
    "    return classifiers\n",
    "\n",
    "def build_regressors(regressors_list):\n",
    "    if 'nn' in regressors_list:\n",
    "        assert regressors_list[0] == 'nn'\n",
    "    \n",
    "    regressors = []\n",
    "    for regressor in regressors_list:\n",
    "        if regressor == 'nn':\n",
    "            regressors.append(build_nn_regressor())\n",
    "        if regressor == 'svm':\n",
    "            regressors.append(MultiOutputRegressor(SVR()))\n",
    "        if regressor == 'rf':\n",
    "            regressors.append(RandomForestRegressor())\n",
    "        if regressor == 'dt':\n",
    "            regressors.append(DecisionTreeRegressor())\n",
    "    return regressors\n",
    "\n",
    "def postprocess_dataset(reference_data, generated_data):\n",
    "    step = 0.1\n",
    "    generated_data = np.around(generated_data, 4)\n",
    "    zero_value = metrics_utils.get_mode(reference_data)\n",
    "    metrics_utils.postprocess_dataset(generated_data, zero_value, step)\n",
    "    \n",
    "def evaluate_data_classification(real_data, generated_data, classifiers_list):\n",
    "    postprocess_dataset(real_data, generated_data)\n",
    "    (x_train, y_train), (x_test, y_test) = metrics_utils.combine_data(real_data, generated_data, split)\n",
    "    \n",
    "    classifiers = build_classifiers(classifiers_list)\n",
    "    \n",
    "    if 'nn' in classifiers_list:\n",
    "        early_stopping = EarlyStopping(monitor='val_loss', min_delta=0.001, patience=3)\n",
    "        classifiers[0].fit(x_train, y_train, validation_data=(x_test, y_test), epochs=100, verbose=0, callbacks=[early_stopping])\n",
    "\n",
    "    for i, classifier in enumerate(classifiers[1:]):\n",
    "        classifier.fit(x_train, y_train)\n",
    "     \n",
    "    histories = {}\n",
    "    for i, classifier in enumerate(classifiers):\n",
    "        classifier_name = classifiers_list[i]\n",
    "        y_pred = classifier.predict(x_test)\n",
    "        \n",
    "        f1_score = metrics.f1_score(y_test, np.rint(y_pred))\n",
    "        accuracy = metrics.accuracy_score(y_test, np.rint(y_pred))\n",
    "        histories[classifier_name] = {\n",
    "            'f1_score':f1_score,\n",
    "            'accuracy':accuracy\n",
    "        }\n",
    "        \n",
    "    return histories\n",
    "\n",
    "def evaluate_data_regression(real_data, generated_data, regressors_list, targets):\n",
    "    postprocess_dataset(real_data, generated_data)\n",
    "    (x_train, y_train), (x_test, y_test) = metrics_utils.combine_data_regression(real_data, generated_data, split, targets)\n",
    "    \n",
    "    regressors = build_regressors(regressors_list)\n",
    "    \n",
    "    if 'nn' in regressors_list:\n",
    "        early_stopping = EarlyStopping(monitor='val_loss', min_delta=0.001, patience=3)\n",
    "        regressors[0].fit(x_train, y_train, validation_data=(x_test, y_test), epochs=100, verbose=0, callbacks=[early_stopping])\n",
    "\n",
    "    for i, regressor in enumerate(regressors[1:]):\n",
    "        regressor.fit(x_train, y_train)\n",
    "     \n",
    "    histories = {}\n",
    "    for i, regressor in enumerate(regressors):\n",
    "        regressor_name = regressors_list[i]\n",
    "        y_pred = regressor.predict(x_test)\n",
    "    \n",
    "        mse = metrics.mean_squared_error(y_test, y_pred)\n",
    "        r2 = metrics.r2_score(y_test, y_pred)\n",
    "        histories[regressor_name] = {\n",
    "            'mse':mse,\n",
    "            'r2':r2\n",
    "        }\n",
    "        \n",
    "    return histories\n",
    "\n",
    "def run_comparison(real_data, generated_data_filepaths, labels, models_list, targets):\n",
    "    histories_classification = {}\n",
    "    histories_regression = {}\n",
    "\n",
    "    for index, filepath in enumerate(generated_data_filepaths):\n",
    "        print(labels[index])\n",
    "        generated_data = np.load(filepath)[:elements]\n",
    "        history_classification = evaluate_data_classification(real_data, generated_data, models_list)\n",
    "        history_regression = evaluate_data_regression(real_data, generated_data, models_list, targets)\n",
    "        histories_classification[labels[index]] = history_classification\n",
    "        histories_regression[labels[index]] = history_regression\n",
    "    return histories_classification, histories_regression"
   ]
  },
  {
   "cell_type": "code",
   "execution_count": 3,
   "metadata": {},
   "outputs": [],
   "source": [
    "timesteps = 90\n",
    "elements = 5000\n",
    "split = 0.3\n",
    "targets = 20\n",
    "\n",
    "transactions_filepath = '../../datasets/berka_dataset/usable/normalized_transactions_months.npy'\n",
    "real_data = utils.load_splitted_dataset(transactions_filepath, timesteps)[:elements]\n",
    "models_list = ['nn', 'rf', 'svm', 'dt']"
   ]
  },
  {
   "cell_type": "markdown",
   "metadata": {},
   "source": [
    "## Models comparison"
   ]
  },
  {
   "cell_type": "code",
   "execution_count": 4,
   "metadata": {
    "scrolled": false
   },
   "outputs": [
    {
     "name": "stdout",
     "output_type": "stream",
     "text": [
      "vanilla\n"
     ]
    },
    {
     "ename": "KeyboardInterrupt",
     "evalue": "",
     "traceback": [
      "\u001b[0;31m---------------------------------------------------------------------------\u001b[0m",
      "\u001b[0;31mKeyboardInterrupt\u001b[0m                         Traceback (most recent call last)",
      "\u001b[0;32m<ipython-input-4-f1c1664fd4a5>\u001b[0m in \u001b[0;36m<module>\u001b[0;34m()\u001b[0m\n\u001b[1;32m      8\u001b[0m     \u001b[0mgenerated_data_filepaths\u001b[0m\u001b[0;34m.\u001b[0m\u001b[0mappend\u001b[0m\u001b[0;34m(\u001b[0m\u001b[0mbase_filepath\u001b[0m \u001b[0;34m+\u001b[0m \u001b[0mlabel\u001b[0m \u001b[0;34m+\u001b[0m \u001b[0;34m'/'\u001b[0m \u001b[0;34m+\u001b[0m \u001b[0mend_filename\u001b[0m\u001b[0;34m)\u001b[0m\u001b[0;34m\u001b[0m\u001b[0m\n\u001b[1;32m      9\u001b[0m \u001b[0;34m\u001b[0m\u001b[0m\n\u001b[0;32m---> 10\u001b[0;31m \u001b[0mhistories_classification\u001b[0m\u001b[0;34m,\u001b[0m \u001b[0mhistories_regression\u001b[0m \u001b[0;34m=\u001b[0m \u001b[0mrun_comparison\u001b[0m\u001b[0;34m(\u001b[0m\u001b[0mreal_data\u001b[0m\u001b[0;34m,\u001b[0m \u001b[0mgenerated_data_filepaths\u001b[0m\u001b[0;34m,\u001b[0m \u001b[0mlabels\u001b[0m\u001b[0;34m,\u001b[0m \u001b[0mmodels_list\u001b[0m\u001b[0;34m,\u001b[0m \u001b[0mtargets\u001b[0m\u001b[0;34m)\u001b[0m\u001b[0;34m\u001b[0m\u001b[0m\n\u001b[0m\u001b[1;32m     11\u001b[0m \u001b[0mmetrics_utils\u001b[0m\u001b[0;34m.\u001b[0m\u001b[0mplot_metrics\u001b[0m\u001b[0;34m(\u001b[0m\u001b[0mhistories_classification\u001b[0m\u001b[0;34m,\u001b[0m \u001b[0mlabels\u001b[0m\u001b[0;34m,\u001b[0m \u001b[0mtitle\u001b[0m\u001b[0;34m)\u001b[0m\u001b[0;34m\u001b[0m\u001b[0m\n\u001b[1;32m     12\u001b[0m \u001b[0mmetrics_utils\u001b[0m\u001b[0;34m.\u001b[0m\u001b[0mplot_metrics\u001b[0m\u001b[0;34m(\u001b[0m\u001b[0mhistories_regression\u001b[0m\u001b[0;34m,\u001b[0m \u001b[0mlabels\u001b[0m\u001b[0;34m,\u001b[0m \u001b[0mtitle\u001b[0m\u001b[0;34m)\u001b[0m\u001b[0;34m\u001b[0m\u001b[0m\n",
      "\u001b[0;32m<ipython-input-2-b5080bba00d9>\u001b[0m in \u001b[0;36mrun_comparison\u001b[0;34m(real_data, generated_data_filepaths, labels, models_list, targets)\u001b[0m\n\u001b[1;32m    122\u001b[0m         \u001b[0mprint\u001b[0m\u001b[0;34m(\u001b[0m\u001b[0mlabels\u001b[0m\u001b[0;34m[\u001b[0m\u001b[0mindex\u001b[0m\u001b[0;34m]\u001b[0m\u001b[0;34m)\u001b[0m\u001b[0;34m\u001b[0m\u001b[0m\n\u001b[1;32m    123\u001b[0m         \u001b[0mgenerated_data\u001b[0m \u001b[0;34m=\u001b[0m \u001b[0mnp\u001b[0m\u001b[0;34m.\u001b[0m\u001b[0mload\u001b[0m\u001b[0;34m(\u001b[0m\u001b[0mfilepath\u001b[0m\u001b[0;34m)\u001b[0m\u001b[0;34m[\u001b[0m\u001b[0;34m:\u001b[0m\u001b[0melements\u001b[0m\u001b[0;34m]\u001b[0m\u001b[0;34m\u001b[0m\u001b[0m\n\u001b[0;32m--> 124\u001b[0;31m         \u001b[0mhistory_classification\u001b[0m \u001b[0;34m=\u001b[0m \u001b[0mevaluate_data_classification\u001b[0m\u001b[0;34m(\u001b[0m\u001b[0mreal_data\u001b[0m\u001b[0;34m,\u001b[0m \u001b[0mgenerated_data\u001b[0m\u001b[0;34m,\u001b[0m \u001b[0mmodels_list\u001b[0m\u001b[0;34m)\u001b[0m\u001b[0;34m\u001b[0m\u001b[0m\n\u001b[0m\u001b[1;32m    125\u001b[0m         \u001b[0mhistory_regression\u001b[0m \u001b[0;34m=\u001b[0m \u001b[0mevaluate_data_regression\u001b[0m\u001b[0;34m(\u001b[0m\u001b[0mreal_data\u001b[0m\u001b[0;34m,\u001b[0m \u001b[0mgenerated_data\u001b[0m\u001b[0;34m,\u001b[0m \u001b[0mmodels_list\u001b[0m\u001b[0;34m,\u001b[0m \u001b[0mtargets\u001b[0m\u001b[0;34m)\u001b[0m\u001b[0;34m\u001b[0m\u001b[0m\n\u001b[1;32m    126\u001b[0m         \u001b[0mhistories_classification\u001b[0m\u001b[0;34m[\u001b[0m\u001b[0mlabels\u001b[0m\u001b[0;34m[\u001b[0m\u001b[0mindex\u001b[0m\u001b[0;34m]\u001b[0m\u001b[0;34m]\u001b[0m \u001b[0;34m=\u001b[0m \u001b[0mhistory_classification\u001b[0m\u001b[0;34m\u001b[0m\u001b[0m\n",
      "\u001b[0;32m<ipython-input-2-b5080bba00d9>\u001b[0m in \u001b[0;36mevaluate_data_classification\u001b[0;34m(real_data, generated_data, classifiers_list)\u001b[0m\n\u001b[1;32m     69\u001b[0m     \u001b[0;32mif\u001b[0m \u001b[0;34m'nn'\u001b[0m \u001b[0;32min\u001b[0m \u001b[0mclassifiers_list\u001b[0m\u001b[0;34m:\u001b[0m\u001b[0;34m\u001b[0m\u001b[0m\n\u001b[1;32m     70\u001b[0m         \u001b[0mearly_stopping\u001b[0m \u001b[0;34m=\u001b[0m \u001b[0mEarlyStopping\u001b[0m\u001b[0;34m(\u001b[0m\u001b[0mmonitor\u001b[0m\u001b[0;34m=\u001b[0m\u001b[0;34m'val_loss'\u001b[0m\u001b[0;34m,\u001b[0m \u001b[0mmin_delta\u001b[0m\u001b[0;34m=\u001b[0m\u001b[0;36m0.001\u001b[0m\u001b[0;34m,\u001b[0m \u001b[0mpatience\u001b[0m\u001b[0;34m=\u001b[0m\u001b[0;36m3\u001b[0m\u001b[0;34m)\u001b[0m\u001b[0;34m\u001b[0m\u001b[0m\n\u001b[0;32m---> 71\u001b[0;31m         \u001b[0mclassifiers\u001b[0m\u001b[0;34m[\u001b[0m\u001b[0;36m0\u001b[0m\u001b[0;34m]\u001b[0m\u001b[0;34m.\u001b[0m\u001b[0mfit\u001b[0m\u001b[0;34m(\u001b[0m\u001b[0mx_train\u001b[0m\u001b[0;34m,\u001b[0m \u001b[0my_train\u001b[0m\u001b[0;34m,\u001b[0m \u001b[0mvalidation_data\u001b[0m\u001b[0;34m=\u001b[0m\u001b[0;34m(\u001b[0m\u001b[0mx_test\u001b[0m\u001b[0;34m,\u001b[0m \u001b[0my_test\u001b[0m\u001b[0;34m)\u001b[0m\u001b[0;34m,\u001b[0m \u001b[0mepochs\u001b[0m\u001b[0;34m=\u001b[0m\u001b[0;36m100\u001b[0m\u001b[0;34m,\u001b[0m \u001b[0mverbose\u001b[0m\u001b[0;34m=\u001b[0m\u001b[0;36m0\u001b[0m\u001b[0;34m,\u001b[0m \u001b[0mcallbacks\u001b[0m\u001b[0;34m=\u001b[0m\u001b[0;34m[\u001b[0m\u001b[0mearly_stopping\u001b[0m\u001b[0;34m]\u001b[0m\u001b[0;34m)\u001b[0m\u001b[0;34m\u001b[0m\u001b[0m\n\u001b[0m\u001b[1;32m     72\u001b[0m \u001b[0;34m\u001b[0m\u001b[0m\n\u001b[1;32m     73\u001b[0m     \u001b[0;32mfor\u001b[0m \u001b[0mi\u001b[0m\u001b[0;34m,\u001b[0m \u001b[0mclassifier\u001b[0m \u001b[0;32min\u001b[0m \u001b[0menumerate\u001b[0m\u001b[0;34m(\u001b[0m\u001b[0mclassifiers\u001b[0m\u001b[0;34m[\u001b[0m\u001b[0;36m1\u001b[0m\u001b[0;34m:\u001b[0m\u001b[0;34m]\u001b[0m\u001b[0;34m)\u001b[0m\u001b[0;34m:\u001b[0m\u001b[0;34m\u001b[0m\u001b[0m\n",
      "\u001b[0;32m~/.local/lib/python3.5/site-packages/keras/engine/training.py\u001b[0m in \u001b[0;36mfit\u001b[0;34m(self, x, y, batch_size, epochs, verbose, callbacks, validation_split, validation_data, shuffle, class_weight, sample_weight, initial_epoch, steps_per_epoch, validation_steps, **kwargs)\u001b[0m\n\u001b[1;32m   1667\u001b[0m                               \u001b[0minitial_epoch\u001b[0m\u001b[0;34m=\u001b[0m\u001b[0minitial_epoch\u001b[0m\u001b[0;34m,\u001b[0m\u001b[0;34m\u001b[0m\u001b[0m\n\u001b[1;32m   1668\u001b[0m                               \u001b[0msteps_per_epoch\u001b[0m\u001b[0;34m=\u001b[0m\u001b[0msteps_per_epoch\u001b[0m\u001b[0;34m,\u001b[0m\u001b[0;34m\u001b[0m\u001b[0m\n\u001b[0;32m-> 1669\u001b[0;31m                               validation_steps=validation_steps)\n\u001b[0m\u001b[1;32m   1670\u001b[0m \u001b[0;34m\u001b[0m\u001b[0m\n\u001b[1;32m   1671\u001b[0m     def evaluate(self, x=None, y=None,\n",
      "\u001b[0;32m~/.local/lib/python3.5/site-packages/keras/engine/training.py\u001b[0m in \u001b[0;36m_fit_loop\u001b[0;34m(self, f, ins, out_labels, batch_size, epochs, verbose, callbacks, val_f, val_ins, shuffle, callback_metrics, initial_epoch, steps_per_epoch, validation_steps)\u001b[0m\n\u001b[1;32m   1204\u001b[0m                         \u001b[0mins_batch\u001b[0m\u001b[0;34m[\u001b[0m\u001b[0mi\u001b[0m\u001b[0;34m]\u001b[0m \u001b[0;34m=\u001b[0m \u001b[0mins_batch\u001b[0m\u001b[0;34m[\u001b[0m\u001b[0mi\u001b[0m\u001b[0;34m]\u001b[0m\u001b[0;34m.\u001b[0m\u001b[0mtoarray\u001b[0m\u001b[0;34m(\u001b[0m\u001b[0;34m)\u001b[0m\u001b[0;34m\u001b[0m\u001b[0m\n\u001b[1;32m   1205\u001b[0m \u001b[0;34m\u001b[0m\u001b[0m\n\u001b[0;32m-> 1206\u001b[0;31m                     \u001b[0mouts\u001b[0m \u001b[0;34m=\u001b[0m \u001b[0mf\u001b[0m\u001b[0;34m(\u001b[0m\u001b[0mins_batch\u001b[0m\u001b[0;34m)\u001b[0m\u001b[0;34m\u001b[0m\u001b[0m\n\u001b[0m\u001b[1;32m   1207\u001b[0m                     \u001b[0;32mif\u001b[0m \u001b[0;32mnot\u001b[0m \u001b[0misinstance\u001b[0m\u001b[0;34m(\u001b[0m\u001b[0mouts\u001b[0m\u001b[0;34m,\u001b[0m \u001b[0mlist\u001b[0m\u001b[0;34m)\u001b[0m\u001b[0;34m:\u001b[0m\u001b[0;34m\u001b[0m\u001b[0m\n\u001b[1;32m   1208\u001b[0m                         \u001b[0mouts\u001b[0m \u001b[0;34m=\u001b[0m \u001b[0;34m[\u001b[0m\u001b[0mouts\u001b[0m\u001b[0;34m]\u001b[0m\u001b[0;34m\u001b[0m\u001b[0m\n",
      "\u001b[0;32m~/.local/lib/python3.5/site-packages/keras/backend/tensorflow_backend.py\u001b[0m in \u001b[0;36m__call__\u001b[0;34m(self, inputs)\u001b[0m\n\u001b[1;32m   2473\u001b[0m         \u001b[0msession\u001b[0m \u001b[0;34m=\u001b[0m \u001b[0mget_session\u001b[0m\u001b[0;34m(\u001b[0m\u001b[0;34m)\u001b[0m\u001b[0;34m\u001b[0m\u001b[0m\n\u001b[1;32m   2474\u001b[0m         updated = session.run(fetches=fetches, feed_dict=feed_dict,\n\u001b[0;32m-> 2475\u001b[0;31m                               **self.session_kwargs)\n\u001b[0m\u001b[1;32m   2476\u001b[0m         \u001b[0;32mreturn\u001b[0m \u001b[0mupdated\u001b[0m\u001b[0;34m[\u001b[0m\u001b[0;34m:\u001b[0m\u001b[0mlen\u001b[0m\u001b[0;34m(\u001b[0m\u001b[0mself\u001b[0m\u001b[0;34m.\u001b[0m\u001b[0moutputs\u001b[0m\u001b[0;34m)\u001b[0m\u001b[0;34m]\u001b[0m\u001b[0;34m\u001b[0m\u001b[0m\n\u001b[1;32m   2477\u001b[0m \u001b[0;34m\u001b[0m\u001b[0m\n",
      "\u001b[0;32m/usr/local/lib/python3.5/dist-packages/tensorflow/python/client/session.py\u001b[0m in \u001b[0;36mrun\u001b[0;34m(self, fetches, feed_dict, options, run_metadata)\u001b[0m\n\u001b[1;32m    887\u001b[0m     \u001b[0;32mtry\u001b[0m\u001b[0;34m:\u001b[0m\u001b[0;34m\u001b[0m\u001b[0m\n\u001b[1;32m    888\u001b[0m       result = self._run(None, fetches, feed_dict, options_ptr,\n\u001b[0;32m--> 889\u001b[0;31m                          run_metadata_ptr)\n\u001b[0m\u001b[1;32m    890\u001b[0m       \u001b[0;32mif\u001b[0m \u001b[0mrun_metadata\u001b[0m\u001b[0;34m:\u001b[0m\u001b[0;34m\u001b[0m\u001b[0m\n\u001b[1;32m    891\u001b[0m         \u001b[0mproto_data\u001b[0m \u001b[0;34m=\u001b[0m \u001b[0mtf_session\u001b[0m\u001b[0;34m.\u001b[0m\u001b[0mTF_GetBuffer\u001b[0m\u001b[0;34m(\u001b[0m\u001b[0mrun_metadata_ptr\u001b[0m\u001b[0;34m)\u001b[0m\u001b[0;34m\u001b[0m\u001b[0m\n",
      "\u001b[0;32m/usr/local/lib/python3.5/dist-packages/tensorflow/python/client/session.py\u001b[0m in \u001b[0;36m_run\u001b[0;34m(self, handle, fetches, feed_dict, options, run_metadata)\u001b[0m\n\u001b[1;32m   1118\u001b[0m     \u001b[0;32mif\u001b[0m \u001b[0mfinal_fetches\u001b[0m \u001b[0;32mor\u001b[0m \u001b[0mfinal_targets\u001b[0m \u001b[0;32mor\u001b[0m \u001b[0;34m(\u001b[0m\u001b[0mhandle\u001b[0m \u001b[0;32mand\u001b[0m \u001b[0mfeed_dict_tensor\u001b[0m\u001b[0;34m)\u001b[0m\u001b[0;34m:\u001b[0m\u001b[0;34m\u001b[0m\u001b[0m\n\u001b[1;32m   1119\u001b[0m       results = self._do_run(handle, final_targets, final_fetches,\n\u001b[0;32m-> 1120\u001b[0;31m                              feed_dict_tensor, options, run_metadata)\n\u001b[0m\u001b[1;32m   1121\u001b[0m     \u001b[0;32melse\u001b[0m\u001b[0;34m:\u001b[0m\u001b[0;34m\u001b[0m\u001b[0m\n\u001b[1;32m   1122\u001b[0m       \u001b[0mresults\u001b[0m \u001b[0;34m=\u001b[0m \u001b[0;34m[\u001b[0m\u001b[0;34m]\u001b[0m\u001b[0;34m\u001b[0m\u001b[0m\n",
      "\u001b[0;32m/usr/local/lib/python3.5/dist-packages/tensorflow/python/client/session.py\u001b[0m in \u001b[0;36m_do_run\u001b[0;34m(self, handle, target_list, fetch_list, feed_dict, options, run_metadata)\u001b[0m\n\u001b[1;32m   1315\u001b[0m     \u001b[0;32mif\u001b[0m \u001b[0mhandle\u001b[0m \u001b[0;32mis\u001b[0m \u001b[0;32mNone\u001b[0m\u001b[0;34m:\u001b[0m\u001b[0;34m\u001b[0m\u001b[0m\n\u001b[1;32m   1316\u001b[0m       return self._do_call(_run_fn, self._session, feeds, fetches, targets,\n\u001b[0;32m-> 1317\u001b[0;31m                            options, run_metadata)\n\u001b[0m\u001b[1;32m   1318\u001b[0m     \u001b[0;32melse\u001b[0m\u001b[0;34m:\u001b[0m\u001b[0;34m\u001b[0m\u001b[0m\n\u001b[1;32m   1319\u001b[0m       \u001b[0;32mreturn\u001b[0m \u001b[0mself\u001b[0m\u001b[0;34m.\u001b[0m\u001b[0m_do_call\u001b[0m\u001b[0;34m(\u001b[0m\u001b[0m_prun_fn\u001b[0m\u001b[0;34m,\u001b[0m \u001b[0mself\u001b[0m\u001b[0;34m.\u001b[0m\u001b[0m_session\u001b[0m\u001b[0;34m,\u001b[0m \u001b[0mhandle\u001b[0m\u001b[0;34m,\u001b[0m \u001b[0mfeeds\u001b[0m\u001b[0;34m,\u001b[0m \u001b[0mfetches\u001b[0m\u001b[0;34m)\u001b[0m\u001b[0;34m\u001b[0m\u001b[0m\n",
      "\u001b[0;32m/usr/local/lib/python3.5/dist-packages/tensorflow/python/client/session.py\u001b[0m in \u001b[0;36m_do_call\u001b[0;34m(self, fn, *args)\u001b[0m\n\u001b[1;32m   1321\u001b[0m   \u001b[0;32mdef\u001b[0m \u001b[0m_do_call\u001b[0m\u001b[0;34m(\u001b[0m\u001b[0mself\u001b[0m\u001b[0;34m,\u001b[0m \u001b[0mfn\u001b[0m\u001b[0;34m,\u001b[0m \u001b[0;34m*\u001b[0m\u001b[0margs\u001b[0m\u001b[0;34m)\u001b[0m\u001b[0;34m:\u001b[0m\u001b[0;34m\u001b[0m\u001b[0m\n\u001b[1;32m   1322\u001b[0m     \u001b[0;32mtry\u001b[0m\u001b[0;34m:\u001b[0m\u001b[0;34m\u001b[0m\u001b[0m\n\u001b[0;32m-> 1323\u001b[0;31m       \u001b[0;32mreturn\u001b[0m \u001b[0mfn\u001b[0m\u001b[0;34m(\u001b[0m\u001b[0;34m*\u001b[0m\u001b[0margs\u001b[0m\u001b[0;34m)\u001b[0m\u001b[0;34m\u001b[0m\u001b[0m\n\u001b[0m\u001b[1;32m   1324\u001b[0m     \u001b[0;32mexcept\u001b[0m \u001b[0merrors\u001b[0m\u001b[0;34m.\u001b[0m\u001b[0mOpError\u001b[0m \u001b[0;32mas\u001b[0m \u001b[0me\u001b[0m\u001b[0;34m:\u001b[0m\u001b[0;34m\u001b[0m\u001b[0m\n\u001b[1;32m   1325\u001b[0m       \u001b[0mmessage\u001b[0m \u001b[0;34m=\u001b[0m \u001b[0mcompat\u001b[0m\u001b[0;34m.\u001b[0m\u001b[0mas_text\u001b[0m\u001b[0;34m(\u001b[0m\u001b[0me\u001b[0m\u001b[0;34m.\u001b[0m\u001b[0mmessage\u001b[0m\u001b[0;34m)\u001b[0m\u001b[0;34m\u001b[0m\u001b[0m\n",
      "\u001b[0;32m/usr/local/lib/python3.5/dist-packages/tensorflow/python/client/session.py\u001b[0m in \u001b[0;36m_run_fn\u001b[0;34m(session, feed_dict, fetch_list, target_list, options, run_metadata)\u001b[0m\n\u001b[1;32m   1300\u001b[0m           return tf_session.TF_Run(session, options,\n\u001b[1;32m   1301\u001b[0m                                    \u001b[0mfeed_dict\u001b[0m\u001b[0;34m,\u001b[0m \u001b[0mfetch_list\u001b[0m\u001b[0;34m,\u001b[0m \u001b[0mtarget_list\u001b[0m\u001b[0;34m,\u001b[0m\u001b[0;34m\u001b[0m\u001b[0m\n\u001b[0;32m-> 1302\u001b[0;31m                                    status, run_metadata)\n\u001b[0m\u001b[1;32m   1303\u001b[0m \u001b[0;34m\u001b[0m\u001b[0m\n\u001b[1;32m   1304\u001b[0m     \u001b[0;32mdef\u001b[0m \u001b[0m_prun_fn\u001b[0m\u001b[0;34m(\u001b[0m\u001b[0msession\u001b[0m\u001b[0;34m,\u001b[0m \u001b[0mhandle\u001b[0m\u001b[0;34m,\u001b[0m \u001b[0mfeed_dict\u001b[0m\u001b[0;34m,\u001b[0m \u001b[0mfetch_list\u001b[0m\u001b[0;34m)\u001b[0m\u001b[0;34m:\u001b[0m\u001b[0;34m\u001b[0m\u001b[0m\n",
      "\u001b[0;31mKeyboardInterrupt\u001b[0m: "
     ],
     "output_type": "error"
    }
   ],
   "source": [
    "labels = ['vanilla', 'mbd', 'packing']\n",
    "title = 'models_comparison'\n",
    "\n",
    "base_filepath = '../generative_models/wgan_gp/outputs/final/'\n",
    "end_filename = 'generated_datasets/1000000_generated_data.npy'    \n",
    "generated_data_filepaths = []    \n",
    "for label in labels:\n",
    "    generated_data_filepaths.append(base_filepath + label + '/' + end_filename)\n",
    "    \n",
    "histories_classification, histories_regression = run_comparison(real_data, generated_data_filepaths, labels, models_list, targets)\n",
    "metrics_utils.plot_metrics(histories_classification, labels, title)\n",
    "metrics_utils.plot_metrics(histories_regression, labels, title)\n",
    "\n",
    "metrics_utils.save_to_json('classification_scores.json', histories_classification)\n",
    "metrics_utils.save_to_json('regression_scores.json', histories_regression)"
   ]
  },
  {
   "cell_type": "markdown",
   "metadata": {},
   "source": [
    "## Performance analysis during training"
   ]
  },
  {
   "cell_type": "code",
   "execution_count": 5,
   "metadata": {},
   "outputs": [],
   "source": [
    "labels = ['100k', '200k', '300k', '400k', '500k', '600k', '700k', '800k', '900k', '1M']\n",
    "\n",
    "transactions_filepath = '../../datasets/berka_dataset/usable/normalized_transactions_months.npy'\n",
    "real_data = utils.load_splitted_dataset(transactions_filepath, timesteps)[:elements]"
   ]
  },
  {
   "cell_type": "markdown",
   "metadata": {},
   "source": [
    "### Vanilla"
   ]
  },
  {
   "cell_type": "code",
   "execution_count": 7,
   "metadata": {
    "scrolled": false
   },
   "outputs": [
    {
     "name": "stdout",
     "output_type": "stream",
     "text": [
      "100k\n",
      "200k\n",
      "300k\n",
      "400k\n",
      "500k\n",
      "600k\n",
      "700k\n",
      "800k\n",
      "900k\n",
      "1M\n"
     ]
    },
    {
     "data": {
      "image/png": "[encoded data removed]",
      "text/plain": [
       "<matplotlib.figure.Figure at 0x7fd29b1f9160>"
      ]
     },
     "metadata": {},
     "output_type": "display_data"
    },
    {
     "data": {
      "image/png": "[encoded data removed]",
      "text/plain": [
       "<matplotlib.figure.Figure at 0x7fd2554876a0>"
      ]
     },
     "metadata": {},
     "output_type": "display_data"
    }
   ],
   "source": [
    "title = 'vanilla'\n",
    "\n",
    "base_filepath = '../generative_models/wgan_gp/outputs/final/vanilla/generated_datasets/'\n",
    "generated_data_filepaths = []\n",
    "for n in range(100000, 1000001, 100000):\n",
    "    generated_data_filepaths.append(base_filepath + str(n) + '_generated_data.npy')\n",
    "    \n",
    "histories_classification, histories_regression = run_comparison(real_data, generated_data_filepaths, labels, models_list, targets)\n",
    "metrics_utils.plot_metrics(histories_classification, labels, title)\n",
    "metrics_utils.plot_metrics(histories_regression, labels, title)\n",
    "\n",
    "metrics_utils.save_to_json('classification_vanilla.json', histories_classification)\n",
    "metrics_utils.save_to_json('regression_vanilla.json', histories_regression)"
   ]
  },
  {
   "cell_type": "markdown",
   "metadata": {},
   "source": [
    "### Mbd"
   ]
  },
  {
   "cell_type": "code",
   "execution_count": 7,
   "metadata": {
    "scrolled": false
   },
   "outputs": [
    {
     "name": "stdout",
     "output_type": "stream",
     "text": [
      "100k\n",
      "200k\n",
      "300k\n",
      "400k\n",
      "500k\n",
      "600k\n",
      "700k\n",
      "800k\n",
      "900k\n",
      "1M\n"
     ]
    },
    {
     "data": {
      "image/png": "[encoded data removed]",
      "text/plain": [
       "<matplotlib.figure.Figure at 0x7f2676417710>"
      ]
     },
     "metadata": {},
     "output_type": "display_data"
    }
   ],
   "source": [
    "title = 'mbd'\n",
    "\n",
    "base_filepath = '../generative_models/wgan_gp/outputs/final/mbd/generated_datasets/'\n",
    "generated_data_filepaths = []\n",
    "for n in range(100000, 1000001, 100000):\n",
    "    generated_data_filepaths.append(base_filepath + str(n) + '_generated_data.npy')\n",
    "    \n",
    "histories = run_comparison(real_data, generated_data_filepaths, labels)\n",
    "metrics_utils.plot_metrics(histories, labels, title)\n",
    "\n",
    "metrics_utils.save_to_json('rf_classification_mbd.json', histories)"
   ]
  },
  {
   "cell_type": "markdown",
   "metadata": {},
   "source": [
    "### Packing"
   ]
  },
  {
   "cell_type": "code",
   "execution_count": 8,
   "metadata": {
    "scrolled": false
   },
   "outputs": [
    {
     "name": "stdout",
     "output_type": "stream",
     "text": [
      "100k\n",
      "200k\n",
      "300k\n",
      "400k\n",
      "500k\n",
      "600k\n",
      "700k\n",
      "800k\n",
      "900k\n",
      "1M\n"
     ]
    },
    {
     "data": {
      "image/png": "[encoded data removed]",
      "text/plain": [
       "<matplotlib.figure.Figure at 0x7f03085fa278>"
      ]
     },
     "metadata": {},
     "output_type": "display_data"
    }
   ],
   "source": [
    "colors = [packing_color] * 10\n",
    "title = 'packing'\n",
    "\n",
    "base_filepath = '../generative_models/wgan_gp/outputs/final/packing/generated_datasets/'\n",
    "generated_data_filepaths = []\n",
    "for n in range(100000, 1000001, 100000):\n",
    "    generated_data_filepaths.append(base_filepath + str(n) + '_generated_data.npy')\n",
    "    \n",
    "histories = run_comparison(real_data, generated_data_filepaths, labels)\n",
    "metrics_utils.plot_metrics(histories, labels, colors, title)\n",
    "\n",
    "metrics_utils.save_to_json('rf_classification_packing.json', histories)"
   ]
  },
  {
   "cell_type": "code",
   "execution_count": null,
   "metadata": {},
   "outputs": [],
   "source": []
  }
 ],
 "metadata": {
  "kernelspec": {
   "display_name": "Python 3",
   "language": "python",
   "name": "python3"
  },
  "language_info": {
   "codemirror_mode": {
    "name": "ipython",
    "version": 3
   },
   "file_extension": ".py",
   "mimetype": "text/x-python",
   "name": "python",
   "nbconvert_exporter": "python",
   "pygments_lexer": "ipython3",
   "version": "3.5.2"
  }
 },
 "nbformat": 4,
 "nbformat_minor": 2
}
