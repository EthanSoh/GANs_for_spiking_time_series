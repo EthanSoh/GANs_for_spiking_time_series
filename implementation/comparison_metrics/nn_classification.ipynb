{
 "cells": [
  {
   "cell_type": "code",
   "execution_count": 1,
   "metadata": {},
   "outputs": [
    {
     "name": "stderr",
     "output_type": "stream",
     "text": [
      "/home/luca/.local/lib/python3.5/site-packages/h5py/__init__.py:36: FutureWarning: Conversion of the second argument of issubdtype from `float` to `np.floating` is deprecated. In future, it will be treated as `np.float64 == np.dtype(float).type`.\n",
      "  from ._conv import register_converters as _register_converters\n",
      "Using TensorFlow backend.\n"
     ]
    }
   ],
   "source": [
    "import keras.backend as K\n",
    "from keras import Input, Model, Sequential\n",
    "from keras.layers import *\n",
    "from keras.optimizers import Adam, RMSprop\n",
    "from keras.callbacks import EarlyStopping\n",
    "\n",
    "from matplotlib import pyplot as plt\n",
    "import json\n",
    "\n",
    "from sklearn import metrics\n",
    "\n",
    "import sys\n",
    "sys.path.append(\"..\")\n",
    "from generative_models import utils\n",
    "\n",
    "import metrics_utils"
   ]
  },
  {
   "cell_type": "code",
   "execution_count": 5,
   "metadata": {},
   "outputs": [],
   "source": [
    "def build_classifier():\n",
    "    model_inputs = Input((timesteps,))\n",
    "    classified = model_inputs\n",
    "\n",
    "    classified = Dense(45, activation='relu')(classified)\n",
    "    classified = Dense(15, activation='relu')(classified)\n",
    "    classified = Dense(1, activation = 'sigmoid')(classified) \n",
    "\n",
    "    classifier = Model(model_inputs, classified, 'classifier')\n",
    "    classifier.compile(loss='binary_crossentropy', optimizer='adam') \n",
    "    return classifier\n",
    "\n",
    "def evaluate_data(real_data, generated_data, epochs):\n",
    "    zero_value = metrics_utils.get_mode(real_data)\n",
    "    \n",
    "    (x_train, y_train), (x_test, y_test) = metrics_utils.combine_data(real_data, generated_data, split)\n",
    "    \n",
    "    step = 0.1\n",
    "    metrics_utils.postprocess_dataset(x_train, zero_value, step)\n",
    "    metrics_utils.postprocess_dataset(x_test, zero_value, step)\n",
    "    \n",
    "    classifier = build_classifier()\n",
    "    early_stopping = EarlyStopping(monitor='val_loss', min_delta=0.001, patience=3)\n",
    "    classifier.fit(x_train, y_train, validation_data=(x_test, y_test), epochs=epochs, verbose=1, callbacks=[early_stopping])\n",
    "\n",
    "    y_pred = classifier.predict(x_test)\n",
    "\n",
    "    history = {}\n",
    "    history['f1_score'] = metrics.f1_score(y_test, np.rint(y_pred))\n",
    "    return history\n",
    "\n",
    "def run_comparison(real_data, generated_data_filepaths, labels, epochs):\n",
    "    histories = {}\n",
    "\n",
    "    for index, filepath in enumerate(generated_data_filepaths):\n",
    "        print(labels[index])\n",
    "        generated_data = np.load(filepath)[:elements]\n",
    "        generated_data = np.around(generated_data, 4)\n",
    "        history = evaluate_data(real_data, generated_data, epochs)\n",
    "        histories[labels[index]] = history\n",
    "    return histories"
   ]
  },
  {
   "cell_type": "code",
   "execution_count": 6,
   "metadata": {},
   "outputs": [],
   "source": [
    "timesteps = 90\n",
    "elements = 50000\n",
    "split = 0.3\n",
    "epochs = 100\n",
    "\n",
    "vanilla_color = 'r'\n",
    "mbd_color = 'g'\n",
    "packing_color = 'b'\n",
    "\n",
    "transactions_filepath = '../../datasets/berka_dataset/usable/normalized_transactions_months.npy'\n",
    "real_data = utils.load_splitted_dataset(transactions_filepath, timesteps)[:elements]"
   ]
  },
  {
   "cell_type": "markdown",
   "metadata": {},
   "source": [
    "## Models comparison"
   ]
  },
  {
   "cell_type": "code",
   "execution_count": 7,
   "metadata": {
    "scrolled": false
   },
   "outputs": [
    {
     "name": "stdout",
     "output_type": "stream",
     "text": [
      "vanilla\n",
      "Train on 70000 samples, validate on 30000 samples\n",
      "Epoch 1/1\n",
      "70000/70000 [==============================] - 13s 183us/step - loss: 0.6360 - val_loss: 0.6020\n",
      "mbd\n",
      "Train on 70000 samples, validate on 30000 samples\n",
      "Epoch 1/1\n",
      "70000/70000 [==============================] - 12s 173us/step - loss: 0.0271 - val_loss: 4.1549e-04\n",
      "packing\n",
      "Train on 70000 samples, validate on 30000 samples\n",
      "Epoch 1/1\n",
      "70000/70000 [==============================] - 12s 172us/step - loss: 0.6271 - val_loss: 0.5960\n"
     ]
    },
    {
     "data": {
      "image/png": "[encoded data removed]",
      "text/plain": [
       "<matplotlib.figure.Figure at 0x7fa46ddfcb00>"
      ]
     },
     "metadata": {},
     "output_type": "display_data"
    }
   ],
   "source": [
    "labels = ['vanilla', 'mbd', 'packing']\n",
    "colors = [vanilla_color, mbd_color, packing_color]\n",
    "title = 'models_comparison'\n",
    "\n",
    "base_filepath = '../generative_models/wgan_gp/outputs/final/'\n",
    "end_filename = 'generated_datasets/1000000_generated_data.npy'    \n",
    "generated_data_filepaths = []    \n",
    "for label in labels:\n",
    "    generated_data_filepaths.append(base_filepath + label + '/' + end_filename)\n",
    "    \n",
    "histories = run_comparison(real_data, generated_data_filepaths, labels, epochs)\n",
    "metrics_utils.plot_metrics(histories, labels, colors, title)\n",
    "\n",
    "metrics_utils.save_to_json('nn_classification_models_comparison.json', histories)"
   ]
  },
  {
   "cell_type": "markdown",
   "metadata": {},
   "source": [
    "## Performance analysis during training"
   ]
  },
  {
   "cell_type": "code",
   "execution_count": 8,
   "metadata": {},
   "outputs": [],
   "source": [
    "labels = ['100k', '200k', '300k', '400k', '500k', '600k', '700k', '800k', '900k', '1M']\n",
    "\n",
    "transactions_filepath = '../../datasets/berka_dataset/usable/normalized_transactions_months.npy'\n",
    "real_data = utils.load_splitted_dataset(transactions_filepath, timesteps)[:elements]"
   ]
  },
  {
   "cell_type": "markdown",
   "metadata": {},
   "source": [
    "### Vanilla"
   ]
  },
  {
   "cell_type": "code",
   "execution_count": 9,
   "metadata": {
    "scrolled": false
   },
   "outputs": [
    {
     "name": "stdout",
     "output_type": "stream",
     "text": [
      "100k\n",
      "Train on 70000 samples, validate on 30000 samples\n",
      "Epoch 1/1\n",
      "70000/70000 [==============================] - 13s 186us/step - loss: 0.6033 - val_loss: 0.5413\n",
      "200k\n",
      "Train on 70000 samples, validate on 30000 samples\n",
      "Epoch 1/1\n",
      "70000/70000 [==============================] - 12s 171us/step - loss: 0.6299 - val_loss: 0.5734\n",
      "300k\n",
      "Train on 70000 samples, validate on 30000 samples\n",
      "Epoch 1/1\n",
      "70000/70000 [==============================] - 13s 191us/step - loss: 0.6373 - val_loss: 0.6010\n",
      "400k\n",
      "Train on 70000 samples, validate on 30000 samples\n",
      "Epoch 1/1\n",
      "70000/70000 [==============================] - 15s 208us/step - loss: 0.6333 - val_loss: 0.6019\n",
      "500k\n",
      "Train on 70000 samples, validate on 30000 samples\n",
      "Epoch 1/1\n",
      "70000/70000 [==============================] - 15s 214us/step - loss: 0.6314 - val_loss: 0.6158\n",
      "600k\n",
      "Train on 70000 samples, validate on 30000 samples\n",
      "Epoch 1/1\n",
      "70000/70000 [==============================] - 17s 240us/step - loss: 0.6342 - val_loss: 0.5939\n",
      "700k\n",
      "Train on 70000 samples, validate on 30000 samples\n",
      "Epoch 1/1\n",
      "70000/70000 [==============================] - 32s 459us/step - loss: 0.6370 - val_loss: 0.5999\n",
      "800k\n",
      "Train on 70000 samples, validate on 30000 samples\n",
      "Epoch 1/1\n",
      "70000/70000 [==============================] - 43s 618us/step - loss: 0.6426 - val_loss: 0.6087\n",
      "900k\n",
      "Train on 70000 samples, validate on 30000 samples\n",
      "Epoch 1/1\n",
      "70000/70000 [==============================] - 45s 637us/step - loss: 0.6343 - val_loss: 0.6036\n",
      "1M\n",
      "Train on 70000 samples, validate on 30000 samples\n",
      "Epoch 1/1\n",
      "70000/70000 [==============================] - 35s 500us/step - loss: 0.6410 - val_loss: 0.6041\n"
     ]
    },
    {
     "data": {
      "image/png": "[encoded data removed]",
      "text/plain": [
       "<matplotlib.figure.Figure at 0x7fa440ff5a90>"
      ]
     },
     "metadata": {},
     "output_type": "display_data"
    }
   ],
   "source": [
    "colors = [vanilla_color] * 10\n",
    "title = 'vanilla'\n",
    "\n",
    "base_filepath = '../generative_models/wgan_gp/outputs/final/vanilla/generated_datasets/'\n",
    "generated_data_filepaths = []\n",
    "for n in range(100000, 1000001, 100000):\n",
    "    generated_data_filepaths.append(base_filepath + str(n) + '_generated_data.npy')\n",
    "    \n",
    "histories = run_comparison(real_data, generated_data_filepaths, labels)\n",
    "metrics_utils.plot_metrics(histories, labels, colors, title)\n",
    "\n",
    "metrics_utils.save_to_json('nn_classification_vanilla.json', histories)"
   ]
  },
  {
   "cell_type": "markdown",
   "metadata": {},
   "source": [
    "### Mbd"
   ]
  },
  {
   "cell_type": "code",
   "execution_count": null,
   "metadata": {
    "scrolled": false
   },
   "outputs": [],
   "source": [
    "colors = [mbd_color] * 10\n",
    "title = 'mbd'\n",
    "\n",
    "base_filepath = '../generative_models/wgan_gp/outputs/final/mbd/generated_datasets/'\n",
    "generated_data_filepaths = []\n",
    "for n in range(100000, 1000001, 100000):\n",
    "    generated_data_filepaths.append(base_filepath + str(n) + '_generated_data.npy')\n",
    "    \n",
    "histories = run_comparison(real_data, generated_data_filepaths, labels)\n",
    "metrics_utils.plot_metrics(histories, labels, colors, title)\n",
    "\n",
    "metrics_utils.save_to_json('nn_classification_mbd.json', histories)"
   ]
  },
  {
   "cell_type": "markdown",
   "metadata": {},
   "source": [
    "### Packing"
   ]
  },
  {
   "cell_type": "code",
   "execution_count": null,
   "metadata": {
    "scrolled": false
   },
   "outputs": [],
   "source": [
    "colors = [packing_color] * 10\n",
    "title = 'packing'\n",
    "\n",
    "base_filepath = '../generative_models/wgan_gp/outputs/final/packing/generated_datasets/'\n",
    "generated_data_filepaths = []\n",
    "for n in range(100000, 1000001, 100000):\n",
    "    generated_data_filepaths.append(base_filepath + str(n) + '_generated_data.npy')\n",
    "    \n",
    "histories = run_comparison(real_data, generated_data_filepaths, labels)\n",
    "metrics_utils.plot_metrics(histories, labels, colors, title)\n",
    "\n",
    "metrics_utils.save_to_json('nn_classification_packing.json', histories)"
   ]
  },
  {
   "cell_type": "code",
   "execution_count": null,
   "metadata": {},
   "outputs": [],
   "source": []
  }
 ],
 "metadata": {
  "kernelspec": {
   "display_name": "Python 3",
   "language": "python",
   "name": "python3"
  },
  "language_info": {
   "codemirror_mode": {
    "name": "ipython",
    "version": 3
   },
   "file_extension": ".py",
   "mimetype": "text/x-python",
   "name": "python",
   "nbconvert_exporter": "python",
   "pygments_lexer": "ipython3",
   "version": "3.5.2"
  }
 },
 "nbformat": 4,
 "nbformat_minor": 2
}
