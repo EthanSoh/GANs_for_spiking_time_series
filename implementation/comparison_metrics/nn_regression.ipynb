{
 "cells": [
  {
   "cell_type": "code",
   "execution_count": 13,
   "metadata": {},
   "outputs": [],
   "source": [
    "import keras.backend as K\n",
    "from keras import Input, Model, Sequential\n",
    "from keras.layers import *\n",
    "from keras.optimizers import Adam, RMSprop\n",
    "from keras.callbacks import EarlyStopping\n",
    "\n",
    "from matplotlib import pyplot as plt\n",
    "import json\n",
    "\n",
    "import sys\n",
    "sys.path.append(\"..\")\n",
    "from generative_models import utils\n",
    "\n",
    "import metrics_utils\n",
    "from sklearn import metrics"
   ]
  },
  {
   "cell_type": "code",
   "execution_count": 14,
   "metadata": {
    "code_folding": []
   },
   "outputs": [],
   "source": [
    "def build_regressor(timesteps, targets):\n",
    "    model_inputs = Input((timesteps - targets,))\n",
    "    regressed = model_inputs\n",
    "\n",
    "    regressed = Dense(15, activation='relu')(regressed)\n",
    "    regressed = Dense(5, activation='relu')(regressed)\n",
    "    regressed = Dense(targets, activation = 'tanh')(regressed) \n",
    "\n",
    "    regressor = Model(model_inputs, regressed, 'regressor')\n",
    "    regressor.compile(loss='mse', optimizer='adam') \n",
    "    return regressor\n",
    "\n",
    "def evaluate_data(real_data, generated_data, targets, epochs):\n",
    "    zero_value = metrics_utils.get_mode(real_data)\n",
    "\n",
    "    (x_train, y_train), (x_test, y_test) = metrics_utils.combine_data_regression(real_data, generated_data, split, targets)\n",
    "    \n",
    "    step = 0.1\n",
    "    metrics_utils.postprocess_dataset(x_train, zero_value, step)\n",
    "    metrics_utils.postprocess_dataset(x_test, zero_value, step)\n",
    "    \n",
    "    regressor = build_regressor(timesteps, targets)\n",
    "    early_stopping = EarlyStopping(monitor='val_loss', min_delta=0.001, patience=3)\n",
    "    regressor.fit(x=x_train, y=y_train, validation_data=(x_test, y_test), epochs=epochs, verbose=1, callbacks=[early_stopping])\n",
    "    y_predicted = regressor.predict(x_test)\n",
    "        \n",
    "    history = {}\n",
    "    history['mse'] = metrics.mean_squared_error(y_test, y_predicted)\n",
    "    history['r2'] = metrics.r2_score(y_test, y_predicted)\n",
    "    \n",
    "    return history\n",
    "\n",
    "def run_comparison(real_data, generated_data_filepaths, labels, epochs):\n",
    "    histories = {}\n",
    "    \n",
    "    for index, filepath in enumerate(generated_data_filepaths):\n",
    "        print(labels[index])\n",
    "        generated_data = np.load(filepath)[:elements]\n",
    "        history = evaluate_data(real_data, generated_data, targets, epochs)\n",
    "        histories[labels[index]] = history\n",
    "    \n",
    "    return histories"
   ]
  },
  {
   "cell_type": "markdown",
   "metadata": {},
   "source": [
    "## Models comparison"
   ]
  },
  {
   "cell_type": "code",
   "execution_count": 15,
   "metadata": {},
   "outputs": [],
   "source": [
    "timesteps = 90\n",
    "elements = 50000\n",
    "split = 0.3\n",
    "targets = 20\n",
    "epochs = 3\n",
    "\n",
    "vanilla_color = 'r'\n",
    "mbd_color = 'g'\n",
    "packing_color = 'b'\n",
    "\n",
    "transactions_filepath = '../../datasets/berka_dataset/usable/normalized_transactions_months.npy'\n",
    "real_data = utils.load_splitted_dataset(transactions_filepath, timesteps)[:elements]\n",
    "(values,counts) = np.unique(real_data,return_counts=True)\n",
    "ind=np.argmax(counts)\n",
    "zero_value = values[ind]"
   ]
  },
  {
   "cell_type": "code",
   "execution_count": 16,
   "metadata": {
    "scrolled": false
   },
   "outputs": [
    {
     "name": "stdout",
     "output_type": "stream",
     "text": [
      "vanilla\n",
      "Train on 70000 samples, validate on 30000 samples\n",
      "Epoch 1/3\n",
      "70000/70000 [==============================] - 11s 150us/step - loss: 0.0191 - val_loss: 0.0141\n",
      "Epoch 2/3\n",
      "70000/70000 [==============================] - 10s 139us/step - loss: 0.0136 - val_loss: 0.0133\n",
      "Epoch 3/3\n",
      "70000/70000 [==============================] - 11s 164us/step - loss: 0.0132 - val_loss: 0.0132\n",
      "mbd\n",
      "Train on 70000 samples, validate on 30000 samples\n",
      "Epoch 1/3\n",
      "70000/70000 [==============================] - 13s 191us/step - loss: 0.0094 - val_loss: 0.0059\n",
      "Epoch 2/3\n",
      "70000/70000 [==============================] - 16s 227us/step - loss: 0.0057 - val_loss: 0.0056\n",
      "Epoch 3/3\n",
      "70000/70000 [==============================] - 16s 225us/step - loss: 0.0055 - val_loss: 0.0054\n",
      "packing\n",
      "Train on 70000 samples, validate on 30000 samples\n",
      "Epoch 1/3\n",
      "70000/70000 [==============================] - 12s 168us/step - loss: 0.0187 - val_loss: 0.0158\n",
      "Epoch 2/3\n",
      "70000/70000 [==============================] - 12s 175us/step - loss: 0.0142 - val_loss: 0.0138\n",
      "Epoch 3/3\n",
      "70000/70000 [==============================] - 14s 197us/step - loss: 0.0133 - val_loss: 0.0134\n"
     ]
    },
    {
     "data": {
      "image/png": "[encoded data removed]",
      "text/plain": [
       "<matplotlib.figure.Figure at 0x7f9c1b9f6ba8>"
      ]
     },
     "metadata": {},
     "output_type": "display_data"
    }
   ],
   "source": [
    "labels = ['vanilla', 'mbd', 'packing']\n",
    "colors = [vanilla_color, mbd_color, packing_color]\n",
    "title = 'models_comparison'\n",
    "\n",
    "base_filepath = '../generative_models/wgan_gp/outputs/final/'\n",
    "end_filename = 'generated_datasets/last.npy'\n",
    "generated_data_filepaths = []       \n",
    "for label in labels:\n",
    "    generated_data_filepaths.append(base_filepath + label + '/' + end_filename)\n",
    "    \n",
    "histories = run_comparison(real_data, generated_data_filepaths, labels, epochs)\n",
    "metrics_utils.plot_metrics(histories, labels, colors, title)\n",
    "\n",
    "metrics_utils.save_to_json('nn_regression_models_comparison.json', histories)"
   ]
  },
  {
   "cell_type": "markdown",
   "metadata": {},
   "source": [
    "## Performance analysis during training"
   ]
  },
  {
   "cell_type": "code",
   "execution_count": 17,
   "metadata": {},
   "outputs": [],
   "source": [
    "timesteps = 90\n",
    "elements = 50000\n",
    "split = 0.3\n",
    "\n",
    "labels = ['100k', '200k', '300k', '400k', '500k', '600k', '700k', '800k', '900k', '1M']\n",
    "\n",
    "transactions_filepath = '../../datasets/berka_dataset/usable/normalized_transactions_months.npy'\n",
    "real_data = utils.load_splitted_dataset(transactions_filepath, timesteps)[:elements]"
   ]
  },
  {
   "cell_type": "markdown",
   "metadata": {},
   "source": [
    "### Vanilla"
   ]
  },
  {
   "cell_type": "code",
   "execution_count": 18,
   "metadata": {
    "scrolled": false
   },
   "outputs": [
    {
     "ename": "TypeError",
     "evalue": "run_comparison() missing 2 required positional arguments: 'labels' and 'epochs'",
     "output_type": "error",
     "traceback": [
      "\u001b[0;31m---------------------------------------------------------------------------\u001b[0m",
      "\u001b[0;31mTypeError\u001b[0m                                 Traceback (most recent call last)",
      "\u001b[0;32m<ipython-input-18-95329ba3dbd3>\u001b[0m in \u001b[0;36m<module>\u001b[0;34m()\u001b[0m\n\u001b[1;32m      8\u001b[0m     \u001b[0mgenerated_data_filepaths\u001b[0m\u001b[0;34m.\u001b[0m\u001b[0mappend\u001b[0m\u001b[0;34m(\u001b[0m\u001b[0mbase_filepath\u001b[0m \u001b[0;34m+\u001b[0m \u001b[0mstr\u001b[0m\u001b[0;34m(\u001b[0m\u001b[0mn\u001b[0m\u001b[0;34m)\u001b[0m \u001b[0;34m+\u001b[0m \u001b[0;34m'_generated_data.npy'\u001b[0m\u001b[0;34m)\u001b[0m\u001b[0;34m\u001b[0m\u001b[0m\n\u001b[1;32m      9\u001b[0m \u001b[0;34m\u001b[0m\u001b[0m\n\u001b[0;32m---> 10\u001b[0;31m \u001b[0mhistories\u001b[0m \u001b[0;34m=\u001b[0m \u001b[0mrun_comparison\u001b[0m\u001b[0;34m(\u001b[0m\u001b[0mreal_data\u001b[0m\u001b[0;34m,\u001b[0m \u001b[0mgenerated_data_filepaths\u001b[0m\u001b[0;34m)\u001b[0m\u001b[0;34m\u001b[0m\u001b[0m\n\u001b[0m\u001b[1;32m     11\u001b[0m \u001b[0mplot_metrics\u001b[0m\u001b[0;34m(\u001b[0m\u001b[0mhistories\u001b[0m\u001b[0;34m,\u001b[0m \u001b[0mlabels\u001b[0m\u001b[0;34m,\u001b[0m \u001b[0mcolors\u001b[0m\u001b[0;34m,\u001b[0m \u001b[0mtitle\u001b[0m\u001b[0;34m)\u001b[0m\u001b[0;34m\u001b[0m\u001b[0m\n\u001b[1;32m     12\u001b[0m \u001b[0;34m\u001b[0m\u001b[0m\n",
      "\u001b[0;31mTypeError\u001b[0m: run_comparison() missing 2 required positional arguments: 'labels' and 'epochs'"
     ]
    }
   ],
   "source": [
    "colors = [vanilla_color] * 10\n",
    "title = 'vanilla'\n",
    "\n",
    "base_filepath = '../generative_models/wgan_gp/outputs/final/vanilla/generated_datasets/'\n",
    "generated_data_filepaths = []\n",
    "\n",
    "for n in range(100000, 1000001, 100000):\n",
    "    generated_data_filepaths.append(base_filepath + str(n) + '_generated_data.npy')\n",
    "    \n",
    "histories = run_comparison(real_data, generated_data_filepaths, labels, epochs)\n",
    "plot_metrics(histories, labels, colors, title)\n",
    "\n",
    "metrics_utils.save_to_json('nn_regression_vanilla.json', histories)"
   ]
  },
  {
   "cell_type": "markdown",
   "metadata": {},
   "source": [
    "### Mbd"
   ]
  },
  {
   "cell_type": "code",
   "execution_count": null,
   "metadata": {
    "scrolled": false
   },
   "outputs": [],
   "source": [
    "colors = [mbd_color] * 10\n",
    "title = 'mbd'\n",
    "\n",
    "base_filepath = '../generative_models/wgan_gp/outputs/final/mbd/generated_datasets/'\n",
    "generated_data_filepaths = []\n",
    "for n in range(100000, 1000001, 100000):\n",
    "    generated_data_filepaths.append(base_filepath + str(n) + '_generated_data.npy')\n",
    "    \n",
    "histories = run_comparison(real_data, generated_data_filepaths, labels, epochs)\n",
    "plot_metrics(histories, labels, colors, title)\n",
    "\n",
    "metrics_utils.save_to_json('nn_regression_mbd.json', histories)"
   ]
  },
  {
   "cell_type": "markdown",
   "metadata": {},
   "source": [
    "### Packing"
   ]
  },
  {
   "cell_type": "code",
   "execution_count": null,
   "metadata": {
    "scrolled": false
   },
   "outputs": [],
   "source": [
    "colors = [packing_color] * 10\n",
    "title = 'packing'\n",
    "\n",
    "base_filepath = '../generative_models/wgan_gp/outputs/final/packing/generated_datasets/'\n",
    "generated_data_filepaths = []\n",
    "for n in range(100000, 1000001, 100000):\n",
    "    generated_data_filepaths.append(base_filepath + str(n) + '_generated_data.npy')\n",
    "    \n",
    "histories = run_comparison(real_data, generated_data_filepaths, labels, epochs)\n",
    "plot_metrics(histories, labels, colors, title)\n",
    "\n",
    "metrics_utils.save_to_json('nn_regression_packing.json', histories)"
   ]
  },
  {
   "cell_type": "code",
   "execution_count": null,
   "metadata": {},
   "outputs": [],
   "source": []
  }
 ],
 "metadata": {
  "kernelspec": {
   "display_name": "Python 3",
   "language": "python",
   "name": "python3"
  },
  "language_info": {
   "codemirror_mode": {
    "name": "ipython",
    "version": 3
   },
   "file_extension": ".py",
   "mimetype": "text/x-python",
   "name": "python",
   "nbconvert_exporter": "python",
   "pygments_lexer": "ipython3",
   "version": "3.5.2"
  }
 },
 "nbformat": 4,
 "nbformat_minor": 2
}
